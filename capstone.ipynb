{
 "cells": [
  {
   "cell_type": "code",
   "execution_count": 1,
   "metadata": {},
   "outputs": [],
   "source": [
    "# Unet 3 p with attention - RE-ARCH"
   ]
  },
  {
   "cell_type": "code",
   "execution_count": 2,
   "metadata": {},
   "outputs": [],
   "source": [
    "# # DO \n",
    "\n",
    "# !pip uninstall Albumentations\n",
    "# !pip install Albumentations==0.5.2"
   ]
  },
  {
   "cell_type": "code",
   "execution_count": 3,
   "metadata": {},
   "outputs": [],
   "source": [
    "# Dice link: https://towardsdatascience.com/how-accurate-is-image-segmentation-dd448f896388"
   ]
  },
  {
   "cell_type": "code",
   "execution_count": 4,
   "metadata": {},
   "outputs": [],
   "source": [
    "import numpy as np\n",
    "import pandas as pd\n",
    "\n",
    "import os\n",
    "import cv2\n",
    "import matplotlib.pyplot as plt\n",
    "# import matplotlib.pylab as plt\n",
    "import numpy as np\n",
    "import seaborn as sns\n",
    "\n",
    "from tqdm.notebook import tqdm\n",
    "import time\n",
    "import random\n",
    "\n",
    "plt.style.use(\"dark_background\")\n",
    "%matplotlib inline\n"
   ]
  },
  {
   "cell_type": "code",
   "execution_count": 5,
   "metadata": {},
   "outputs": [],
   "source": [
    "BASE_PATH= \"/Users/srikeshnagoji/Documents/PythonWorkSpace/jupyter_lab_workspace/PES/CAPSTONE/kaggle_3m\""
   ]
  },
  {
   "cell_type": "code",
   "execution_count": 6,
   "metadata": {},
   "outputs": [
    {
     "data": {
      "text/plain": [
       "'/Users/srikeshnagoji/Documents/PythonWorkSpace/jupyter_lab_workspace/PES/CAPSTONE/kaggle_3m/TCGA_CS_4941_19960909/TCGA_CS_4941_19960909_1.tif'"
      ]
     },
     "execution_count": 6,
     "metadata": {},
     "output_type": "execute_result"
    }
   ],
   "source": [
    "\"/Users/srikeshnagoji/Documents/PythonWorkSpace/jupyter_lab_workspace/PES/CAPSTONE/kaggle_3m/TCGA_CS_4941_19960909/TCGA_CS_4941_19960909_1.tif\""
   ]
  },
  {
   "cell_type": "code",
   "execution_count": 7,
   "metadata": {},
   "outputs": [],
   "source": [
    "BASE_LEN = len(BASE_PATH) + len(\"/TCGA_CS_4941_19960909/TCGA_CS_4941_19960909_\")\n",
    "END_LEN = len(\".tif\")\n",
    "END_MASK_LEN = len(\"_mask.tif\")\n",
    "\n",
    "IMG_SIZE = 512"
   ]
  },
  {
   "cell_type": "markdown",
   "metadata": {},
   "source": [
    "# Prepare data"
   ]
  },
  {
   "cell_type": "code",
   "execution_count": 8,
   "metadata": {},
   "outputs": [
    {
     "name": "stdout",
     "output_type": "stream",
     "text": [
      "[INFO] This is not a dir --> /Users/srikeshnagoji/Documents/PythonWorkSpace/jupyter_lab_workspace/PES/CAPSTONE/kaggle_3m/data.csv\n",
      "[INFO] This is not a dir --> /Users/srikeshnagoji/Documents/PythonWorkSpace/jupyter_lab_workspace/PES/CAPSTONE/kaggle_3m/README.md\n"
     ]
    }
   ],
   "source": [
    "data = []\n",
    "\n",
    "for dir_ in os.listdir(BASE_PATH):\n",
    "    dir_path = os.path.join(BASE_PATH, dir_)\n",
    "    if os.path.isdir(dir_path):\n",
    "        for filename in os.listdir(dir_path):\n",
    "            img_path = os.path.join(dir_path, filename)\n",
    "            data.append([dir_, img_path])\n",
    "    else:\n",
    "        print(f\"[INFO] This is not a dir --> {dir_path}\")\n",
    "        \n",
    "df = pd.DataFrame(data, columns=[\"dir_name\", \"image_path\"])\n"
   ]
  },
  {
   "cell_type": "code",
   "execution_count": 9,
   "metadata": {},
   "outputs": [
    {
     "data": {
      "text/html": [
       "<div>\n",
       "<style scoped>\n",
       "    .dataframe tbody tr th:only-of-type {\n",
       "        vertical-align: middle;\n",
       "    }\n",
       "\n",
       "    .dataframe tbody tr th {\n",
       "        vertical-align: top;\n",
       "    }\n",
       "\n",
       "    .dataframe thead th {\n",
       "        text-align: right;\n",
       "    }\n",
       "</style>\n",
       "<table border=\"1\" class=\"dataframe\">\n",
       "  <thead>\n",
       "    <tr style=\"text-align: right;\">\n",
       "      <th></th>\n",
       "      <th>dir_name</th>\n",
       "      <th>image_path</th>\n",
       "    </tr>\n",
       "  </thead>\n",
       "  <tbody>\n",
       "    <tr>\n",
       "      <th>0</th>\n",
       "      <td>TCGA_CS_6667_20011105</td>\n",
       "      <td>/Users/srikeshnagoji/Documents/PythonWorkSpace...</td>\n",
       "    </tr>\n",
       "    <tr>\n",
       "      <th>1</th>\n",
       "      <td>TCGA_CS_6667_20011105</td>\n",
       "      <td>/Users/srikeshnagoji/Documents/PythonWorkSpace...</td>\n",
       "    </tr>\n",
       "    <tr>\n",
       "      <th>2</th>\n",
       "      <td>TCGA_CS_6667_20011105</td>\n",
       "      <td>/Users/srikeshnagoji/Documents/PythonWorkSpace...</td>\n",
       "    </tr>\n",
       "    <tr>\n",
       "      <th>3</th>\n",
       "      <td>TCGA_CS_6667_20011105</td>\n",
       "      <td>/Users/srikeshnagoji/Documents/PythonWorkSpace...</td>\n",
       "    </tr>\n",
       "    <tr>\n",
       "      <th>4</th>\n",
       "      <td>TCGA_CS_6667_20011105</td>\n",
       "      <td>/Users/srikeshnagoji/Documents/PythonWorkSpace...</td>\n",
       "    </tr>\n",
       "    <tr>\n",
       "      <th>...</th>\n",
       "      <td>...</td>\n",
       "      <td>...</td>\n",
       "    </tr>\n",
       "    <tr>\n",
       "      <th>7853</th>\n",
       "      <td>TCGA_FG_A60K_20040224</td>\n",
       "      <td>/Users/srikeshnagoji/Documents/PythonWorkSpace...</td>\n",
       "    </tr>\n",
       "    <tr>\n",
       "      <th>7854</th>\n",
       "      <td>TCGA_FG_A60K_20040224</td>\n",
       "      <td>/Users/srikeshnagoji/Documents/PythonWorkSpace...</td>\n",
       "    </tr>\n",
       "    <tr>\n",
       "      <th>7855</th>\n",
       "      <td>TCGA_FG_A60K_20040224</td>\n",
       "      <td>/Users/srikeshnagoji/Documents/PythonWorkSpace...</td>\n",
       "    </tr>\n",
       "    <tr>\n",
       "      <th>7856</th>\n",
       "      <td>TCGA_FG_A60K_20040224</td>\n",
       "      <td>/Users/srikeshnagoji/Documents/PythonWorkSpace...</td>\n",
       "    </tr>\n",
       "    <tr>\n",
       "      <th>7857</th>\n",
       "      <td>TCGA_FG_A60K_20040224</td>\n",
       "      <td>/Users/srikeshnagoji/Documents/PythonWorkSpace...</td>\n",
       "    </tr>\n",
       "  </tbody>\n",
       "</table>\n",
       "<p>7858 rows × 2 columns</p>\n",
       "</div>"
      ],
      "text/plain": [
       "                   dir_name                                         image_path\n",
       "0     TCGA_CS_6667_20011105  /Users/srikeshnagoji/Documents/PythonWorkSpace...\n",
       "1     TCGA_CS_6667_20011105  /Users/srikeshnagoji/Documents/PythonWorkSpace...\n",
       "2     TCGA_CS_6667_20011105  /Users/srikeshnagoji/Documents/PythonWorkSpace...\n",
       "3     TCGA_CS_6667_20011105  /Users/srikeshnagoji/Documents/PythonWorkSpace...\n",
       "4     TCGA_CS_6667_20011105  /Users/srikeshnagoji/Documents/PythonWorkSpace...\n",
       "...                     ...                                                ...\n",
       "7853  TCGA_FG_A60K_20040224  /Users/srikeshnagoji/Documents/PythonWorkSpace...\n",
       "7854  TCGA_FG_A60K_20040224  /Users/srikeshnagoji/Documents/PythonWorkSpace...\n",
       "7855  TCGA_FG_A60K_20040224  /Users/srikeshnagoji/Documents/PythonWorkSpace...\n",
       "7856  TCGA_FG_A60K_20040224  /Users/srikeshnagoji/Documents/PythonWorkSpace...\n",
       "7857  TCGA_FG_A60K_20040224  /Users/srikeshnagoji/Documents/PythonWorkSpace...\n",
       "\n",
       "[7858 rows x 2 columns]"
      ]
     },
     "execution_count": 9,
     "metadata": {},
     "output_type": "execute_result"
    }
   ],
   "source": [
    "df"
   ]
  },
  {
   "cell_type": "code",
   "execution_count": 10,
   "metadata": {},
   "outputs": [],
   "source": [
    "df_imgs = df[~df[\"image_path\"].str.contains(\"mask\")]\n",
    "df_masks = df[df[\"image_path\"].str.contains(\"mask\")]"
   ]
  },
  {
   "cell_type": "code",
   "execution_count": 11,
   "metadata": {},
   "outputs": [
    {
     "data": {
      "text/plain": [
       "'9'"
      ]
     },
     "execution_count": 11,
     "metadata": {},
     "output_type": "execute_result"
    }
   ],
   "source": [
    "df_imgs.iloc[0,1][BASE_LEN: -END_LEN]"
   ]
  },
  {
   "cell_type": "code",
   "execution_count": 12,
   "metadata": {},
   "outputs": [],
   "source": [
    "imgs = sorted(df_imgs[\"image_path\"].values, key= lambda x: int((x[BASE_LEN: -END_LEN])))\n",
    "masks = sorted(df_masks[\"image_path\"].values, key=lambda x: int((x[BASE_LEN: -END_MASK_LEN])))"
   ]
  },
  {
   "cell_type": "code",
   "execution_count": 13,
   "metadata": {},
   "outputs": [
    {
     "name": "stdout",
     "output_type": "stream",
     "text": [
      "This image */Users/srikeshnagoji/Documents/PythonWorkSpace/jupyter_lab_workspace/PES/CAPSTONE/kaggle_3m/TCGA_FG_6689_20020326/TCGA_FG_6689_20020326_11.tif*\n",
      " Belongs to the mask */Users/srikeshnagoji/Documents/PythonWorkSpace/jupyter_lab_workspace/PES/CAPSTONE/kaggle_3m/TCGA_FG_6689_20020326/TCGA_FG_6689_20020326_11_mask.tif*\n"
     ]
    }
   ],
   "source": [
    "# sanity check\n",
    "idx = random.randint(0, len(imgs)-1)\n",
    "print(f\"This image *{imgs[idx]}*\\n Belongs to the mask *{masks[idx]}*\")"
   ]
  },
  {
   "cell_type": "code",
   "execution_count": 14,
   "metadata": {},
   "outputs": [
    {
     "data": {
      "text/html": [
       "<div>\n",
       "<style scoped>\n",
       "    .dataframe tbody tr th:only-of-type {\n",
       "        vertical-align: middle;\n",
       "    }\n",
       "\n",
       "    .dataframe tbody tr th {\n",
       "        vertical-align: top;\n",
       "    }\n",
       "\n",
       "    .dataframe thead th {\n",
       "        text-align: right;\n",
       "    }\n",
       "</style>\n",
       "<table border=\"1\" class=\"dataframe\">\n",
       "  <thead>\n",
       "    <tr style=\"text-align: right;\">\n",
       "      <th></th>\n",
       "      <th>patient</th>\n",
       "      <th>image_path</th>\n",
       "      <th>mask_path</th>\n",
       "    </tr>\n",
       "  </thead>\n",
       "  <tbody>\n",
       "    <tr>\n",
       "      <th>0</th>\n",
       "      <td>TCGA_CS_6667_20011105</td>\n",
       "      <td>/Users/srikeshnagoji/Documents/PythonWorkSpace...</td>\n",
       "      <td>/Users/srikeshnagoji/Documents/PythonWorkSpace...</td>\n",
       "    </tr>\n",
       "    <tr>\n",
       "      <th>1</th>\n",
       "      <td>TCGA_CS_6667_20011105</td>\n",
       "      <td>/Users/srikeshnagoji/Documents/PythonWorkSpace...</td>\n",
       "      <td>/Users/srikeshnagoji/Documents/PythonWorkSpace...</td>\n",
       "    </tr>\n",
       "    <tr>\n",
       "      <th>2</th>\n",
       "      <td>TCGA_CS_6667_20011105</td>\n",
       "      <td>/Users/srikeshnagoji/Documents/PythonWorkSpace...</td>\n",
       "      <td>/Users/srikeshnagoji/Documents/PythonWorkSpace...</td>\n",
       "    </tr>\n",
       "    <tr>\n",
       "      <th>3</th>\n",
       "      <td>TCGA_CS_6667_20011105</td>\n",
       "      <td>/Users/srikeshnagoji/Documents/PythonWorkSpace...</td>\n",
       "      <td>/Users/srikeshnagoji/Documents/PythonWorkSpace...</td>\n",
       "    </tr>\n",
       "    <tr>\n",
       "      <th>4</th>\n",
       "      <td>TCGA_CS_6667_20011105</td>\n",
       "      <td>/Users/srikeshnagoji/Documents/PythonWorkSpace...</td>\n",
       "      <td>/Users/srikeshnagoji/Documents/PythonWorkSpace...</td>\n",
       "    </tr>\n",
       "  </tbody>\n",
       "</table>\n",
       "</div>"
      ],
      "text/plain": [
       "                 patient                                         image_path  \\\n",
       "0  TCGA_CS_6667_20011105  /Users/srikeshnagoji/Documents/PythonWorkSpace...   \n",
       "1  TCGA_CS_6667_20011105  /Users/srikeshnagoji/Documents/PythonWorkSpace...   \n",
       "2  TCGA_CS_6667_20011105  /Users/srikeshnagoji/Documents/PythonWorkSpace...   \n",
       "3  TCGA_CS_6667_20011105  /Users/srikeshnagoji/Documents/PythonWorkSpace...   \n",
       "4  TCGA_CS_6667_20011105  /Users/srikeshnagoji/Documents/PythonWorkSpace...   \n",
       "\n",
       "                                           mask_path  \n",
       "0  /Users/srikeshnagoji/Documents/PythonWorkSpace...  \n",
       "1  /Users/srikeshnagoji/Documents/PythonWorkSpace...  \n",
       "2  /Users/srikeshnagoji/Documents/PythonWorkSpace...  \n",
       "3  /Users/srikeshnagoji/Documents/PythonWorkSpace...  \n",
       "4  /Users/srikeshnagoji/Documents/PythonWorkSpace...  "
      ]
     },
     "execution_count": 14,
     "metadata": {},
     "output_type": "execute_result"
    }
   ],
   "source": [
    "# final dataframe\n",
    "dff = pd.DataFrame({\"patient\": df_imgs.dir_name.values,\n",
    "                   \"image_path\": imgs,\n",
    "                   \"mask_path\": masks})\n",
    "\n",
    "dff.head()"
   ]
  },
  {
   "cell_type": "code",
   "execution_count": 15,
   "metadata": {},
   "outputs": [
    {
     "data": {
      "text/plain": [
       "'/Users/srikeshnagoji/Documents/PythonWorkSpace/jupyter_lab_workspace/PES/CAPSTONE/kaggle_3m/TCGA_CS_6667_20011105/TCGA_CS_6667_20011105_1.tif'"
      ]
     },
     "execution_count": 15,
     "metadata": {},
     "output_type": "execute_result"
    }
   ],
   "source": [
    "dff.iloc[0,1]"
   ]
  },
  {
   "cell_type": "code",
   "execution_count": 16,
   "metadata": {},
   "outputs": [
    {
     "data": {
      "text/plain": [
       "'/Users/srikeshnagoji/Documents/PythonWorkSpace/jupyter_lab_workspace/PES/CAPSTONE/kaggle_3m/TCGA_CS_6667_20011105/TCGA_CS_6667_20011105_1_mask.tif'"
      ]
     },
     "execution_count": 16,
     "metadata": {},
     "output_type": "execute_result"
    }
   ],
   "source": [
    "dff.iloc[0,2]\n"
   ]
  },
  {
   "cell_type": "code",
   "execution_count": 17,
   "metadata": {},
   "outputs": [],
   "source": [
    "def pos_neg_diagnosis(mask_path):\n",
    "    val = np.max(cv2.imread(mask_path))\n",
    "    if val > 0: return 1\n",
    "    else: return 0"
   ]
  },
  {
   "cell_type": "code",
   "execution_count": 18,
   "metadata": {},
   "outputs": [
    {
     "data": {
      "text/html": [
       "<div>\n",
       "<style scoped>\n",
       "    .dataframe tbody tr th:only-of-type {\n",
       "        vertical-align: middle;\n",
       "    }\n",
       "\n",
       "    .dataframe tbody tr th {\n",
       "        vertical-align: top;\n",
       "    }\n",
       "\n",
       "    .dataframe thead th {\n",
       "        text-align: right;\n",
       "    }\n",
       "</style>\n",
       "<table border=\"1\" class=\"dataframe\">\n",
       "  <thead>\n",
       "    <tr style=\"text-align: right;\">\n",
       "      <th></th>\n",
       "      <th>patient</th>\n",
       "      <th>image_path</th>\n",
       "      <th>mask_path</th>\n",
       "      <th>diagnosis</th>\n",
       "    </tr>\n",
       "  </thead>\n",
       "  <tbody>\n",
       "    <tr>\n",
       "      <th>0</th>\n",
       "      <td>TCGA_CS_6667_20011105</td>\n",
       "      <td>/Users/srikeshnagoji/Documents/PythonWorkSpace...</td>\n",
       "      <td>/Users/srikeshnagoji/Documents/PythonWorkSpace...</td>\n",
       "      <td>0</td>\n",
       "    </tr>\n",
       "    <tr>\n",
       "      <th>1</th>\n",
       "      <td>TCGA_CS_6667_20011105</td>\n",
       "      <td>/Users/srikeshnagoji/Documents/PythonWorkSpace...</td>\n",
       "      <td>/Users/srikeshnagoji/Documents/PythonWorkSpace...</td>\n",
       "      <td>0</td>\n",
       "    </tr>\n",
       "    <tr>\n",
       "      <th>2</th>\n",
       "      <td>TCGA_CS_6667_20011105</td>\n",
       "      <td>/Users/srikeshnagoji/Documents/PythonWorkSpace...</td>\n",
       "      <td>/Users/srikeshnagoji/Documents/PythonWorkSpace...</td>\n",
       "      <td>0</td>\n",
       "    </tr>\n",
       "    <tr>\n",
       "      <th>3</th>\n",
       "      <td>TCGA_CS_6667_20011105</td>\n",
       "      <td>/Users/srikeshnagoji/Documents/PythonWorkSpace...</td>\n",
       "      <td>/Users/srikeshnagoji/Documents/PythonWorkSpace...</td>\n",
       "      <td>0</td>\n",
       "    </tr>\n",
       "    <tr>\n",
       "      <th>4</th>\n",
       "      <td>TCGA_CS_6667_20011105</td>\n",
       "      <td>/Users/srikeshnagoji/Documents/PythonWorkSpace...</td>\n",
       "      <td>/Users/srikeshnagoji/Documents/PythonWorkSpace...</td>\n",
       "      <td>0</td>\n",
       "    </tr>\n",
       "  </tbody>\n",
       "</table>\n",
       "</div>"
      ],
      "text/plain": [
       "                 patient                                         image_path  \\\n",
       "0  TCGA_CS_6667_20011105  /Users/srikeshnagoji/Documents/PythonWorkSpace...   \n",
       "1  TCGA_CS_6667_20011105  /Users/srikeshnagoji/Documents/PythonWorkSpace...   \n",
       "2  TCGA_CS_6667_20011105  /Users/srikeshnagoji/Documents/PythonWorkSpace...   \n",
       "3  TCGA_CS_6667_20011105  /Users/srikeshnagoji/Documents/PythonWorkSpace...   \n",
       "4  TCGA_CS_6667_20011105  /Users/srikeshnagoji/Documents/PythonWorkSpace...   \n",
       "\n",
       "                                           mask_path  diagnosis  \n",
       "0  /Users/srikeshnagoji/Documents/PythonWorkSpace...          0  \n",
       "1  /Users/srikeshnagoji/Documents/PythonWorkSpace...          0  \n",
       "2  /Users/srikeshnagoji/Documents/PythonWorkSpace...          0  \n",
       "3  /Users/srikeshnagoji/Documents/PythonWorkSpace...          0  \n",
       "4  /Users/srikeshnagoji/Documents/PythonWorkSpace...          0  "
      ]
     },
     "execution_count": 18,
     "metadata": {},
     "output_type": "execute_result"
    }
   ],
   "source": [
    "dff[\"diagnosis\"] = dff[\"mask_path\"].apply(lambda x: pos_neg_diagnosis(x))\n",
    "\n",
    "dff.head()"
   ]
  },
  {
   "cell_type": "code",
   "execution_count": 19,
   "metadata": {},
   "outputs": [
    {
     "data": {
      "text/plain": [
       "(3929, 4)"
      ]
     },
     "execution_count": 19,
     "metadata": {},
     "output_type": "execute_result"
    }
   ],
   "source": [
    "dff.shape\n"
   ]
  },
  {
   "cell_type": "code",
   "execution_count": 20,
   "metadata": {},
   "outputs": [
    {
     "data": {
      "text/plain": [
       "0    2556\n",
       "1    1373\n",
       "Name: diagnosis, dtype: int64"
      ]
     },
     "execution_count": 20,
     "metadata": {},
     "output_type": "execute_result"
    }
   ],
   "source": [
    "dff.diagnosis.value_counts()"
   ]
  },
  {
   "cell_type": "code",
   "execution_count": 21,
   "metadata": {},
   "outputs": [
    {
     "name": "stdout",
     "output_type": "stream",
     "text": [
      "Amount of patients:  110\n",
      "Amount of records:  3929\n"
     ]
    }
   ],
   "source": [
    "print(\"Amount of patients: \", len(set(dff.patient)))\n",
    "print(\"Amount of records: \", len(dff))"
   ]
  },
  {
   "cell_type": "markdown",
   "metadata": {},
   "source": [
    "# Data Augmentation"
   ]
  },
  {
   "cell_type": "code",
   "execution_count": 22,
   "metadata": {},
   "outputs": [],
   "source": [
    "import torch\n",
    "import torch.nn as nn\n",
    "import torch.nn.functional as F\n",
    "from torch.utils.data import Dataset, DataLoader\n",
    "\n",
    "import albumentations as A\n",
    "from albumentations.pytorch import ToTensor\n",
    "\n",
    "from sklearn.model_selection import train_test_split"
   ]
  },
  {
   "cell_type": "code",
   "execution_count": 23,
   "metadata": {},
   "outputs": [
    {
     "name": "stdout",
     "output_type": "stream",
     "text": [
      "Python Platform: macOS-13.0.1-arm64-arm-64bit\n",
      "PyTorch Version: 1.12.1\n",
      "\n",
      "Python 3.9.13 | packaged by conda-forge | (main, May 27 2022, 17:01:00) \n",
      "[Clang 13.0.1 ]\n",
      "Pandas 1.5.1\n",
      "Scikit-Learn 1.1.3\n",
      "GPU is NOT AVAILABLE\n",
      "MPS (Apple Metal) is AVAILABLE\n",
      "Target device is mps\n"
     ]
    }
   ],
   "source": [
    "import platform\n",
    "import sklearn as sk\n",
    "import sys\n",
    "has_gpu = torch.cuda.is_available()\n",
    "has_mps = getattr(torch,'has_mps',False)\n",
    "device = \"mps\" if getattr(torch,'has_mps',False) \\\n",
    "    else \"gpu\" if torch.cuda.is_available() else \"cpu\"\n",
    "\n",
    "print(f\"Python Platform: {platform.platform()}\")\n",
    "print(f\"PyTorch Version: {torch.__version__}\")\n",
    "print()\n",
    "print(f\"Python {sys.version}\")\n",
    "print(f\"Pandas {pd.__version__}\")\n",
    "print(f\"Scikit-Learn {sk.__version__}\")\n",
    "print(\"GPU is\", \"available\" if has_gpu else \"NOT AVAILABLE\")\n",
    "print(\"MPS (Apple Metal) is\", \"AVAILABLE\" if has_mps else \"NOT AVAILABLE\")\n",
    "print(f\"Target device is {device}\")"
   ]
  },
  {
   "cell_type": "code",
   "execution_count": 24,
   "metadata": {},
   "outputs": [],
   "source": [
    "class BrainMRIDataset(Dataset):\n",
    "    def __init__(self, df, transform=None):\n",
    "        self.df = df\n",
    "        self.transform = transform\n",
    "        \n",
    "    def __len__(self):\n",
    "        return len(self.df)\n",
    "    \n",
    "    def __getitem__(self, idx):\n",
    "        image = cv2.imread(self.df.iloc[idx, 1])\n",
    "        mask = cv2.imread(self.df.iloc[idx, 2], 0)\n",
    "        \n",
    "        augmented = self.transform(image=image,\n",
    "                                   mask=mask)\n",
    "        \n",
    "        image = augmented[\"image\"]\n",
    "        mask = augmented[\"mask\"]\n",
    "#         mask = np.expand_dims(augmented[\"mask\"], axis=0)# Do not use this\n",
    "        \n",
    "        return image, mask"
   ]
  },
  {
   "cell_type": "code",
   "execution_count": 25,
   "metadata": {},
   "outputs": [],
   "source": [
    "PATCH_SIZE = 128\n",
    "\n",
    "transform = A.Compose([\n",
    "    A.Resize(width = PATCH_SIZE, height = PATCH_SIZE, p=1.0),\n",
    "    A.HorizontalFlip(p=0.5),\n",
    "    A.VerticalFlip(p=0.5),\n",
    "    A.RandomRotate90(p=0.5),\n",
    "    A.Transpose(p=0.5),\n",
    "    A.ShiftScaleRotate(shift_limit=0.01, scale_limit=0.04, rotate_limit=0, p=0.25),\n",
    "\n",
    "    A.Normalize(p=1.0),\n",
    "    ToTensor(),\n",
    "    \n",
    "])"
   ]
  },
  {
   "cell_type": "markdown",
   "metadata": {},
   "source": [
    "# Split Data and DataLoaders"
   ]
  },
  {
   "cell_type": "code",
   "execution_count": 26,
   "metadata": {},
   "outputs": [
    {
     "name": "stdout",
     "output_type": "stream",
     "text": [
      "Train: (3111, 4) \n",
      "Val: (393, 4) \n",
      "Test: (425, 4)\n"
     ]
    }
   ],
   "source": [
    "train_df, val_df = train_test_split(dff, stratify=dff.diagnosis, test_size=0.1)\n",
    "train_df = train_df.reset_index(drop=True)\n",
    "val_df = val_df.reset_index(drop=True)\n",
    "\n",
    "train_df, test_df = train_test_split(train_df, stratify=train_df.diagnosis, test_size=0.12)\n",
    "train_df = train_df.reset_index(drop=True)\n",
    "\n",
    "print(f\"Train: {train_df.shape} \\nVal: {val_df.shape} \\nTest: {test_df.shape}\")"
   ]
  },
  {
   "cell_type": "code",
   "execution_count": 27,
   "metadata": {},
   "outputs": [],
   "source": [
    "train_dataset = BrainMRIDataset(train_df, transform=transform)\n",
    "train_dataloader = DataLoader(train_dataset, batch_size=10, shuffle=True)\n",
    "\n",
    "val_dataset = BrainMRIDataset(val_df, transform=transform)\n",
    "val_dataloader = DataLoader(val_dataset, batch_size=10,  shuffle=True)\n",
    "\n",
    "test_dataset = BrainMRIDataset(test_df, transform=transform)\n",
    "test_dataloader = DataLoader(test_dataset, batch_size=10,shuffle=True)"
   ]
  },
  {
   "cell_type": "code",
   "execution_count": 28,
   "metadata": {},
   "outputs": [
    {
     "data": {
      "text/plain": [
       "3111"
      ]
     },
     "execution_count": 28,
     "metadata": {},
     "output_type": "execute_result"
    }
   ],
   "source": [
    "len(train_dataset)"
   ]
  },
  {
   "cell_type": "code",
   "execution_count": 29,
   "metadata": {},
   "outputs": [
    {
     "data": {
      "text/plain": [
       "393"
      ]
     },
     "execution_count": 29,
     "metadata": {},
     "output_type": "execute_result"
    }
   ],
   "source": [
    "len(val_dataset)"
   ]
  },
  {
   "cell_type": "code",
   "execution_count": 30,
   "metadata": {},
   "outputs": [
    {
     "data": {
      "text/plain": [
       "425"
      ]
     },
     "execution_count": 30,
     "metadata": {},
     "output_type": "execute_result"
    }
   ],
   "source": [
    "len(test_dataset)"
   ]
  },
  {
   "cell_type": "code",
   "execution_count": 31,
   "metadata": {},
   "outputs": [],
   "source": [
    "def show_aug(inputs, nrows=5, ncols=5, norm=False):\n",
    "    plt.figure(figsize=(10, 10))\n",
    "    plt.subplots_adjust(wspace=0., hspace=0.)\n",
    "    i_ = 0\n",
    "    \n",
    "    if len(inputs) > 25:\n",
    "        inputs = inputs[:25]\n",
    "        \n",
    "    for idx in range(len(inputs)):\n",
    "    \n",
    "        # normalization\n",
    "        if norm:           \n",
    "            img = inputs[idx].numpy().transpose(1,2,0)\n",
    "            mean = [0.485, 0.456, 0.406]\n",
    "            std = [0.229, 0.224, 0.225] \n",
    "            img = (img*std+mean).astype(np.float32)\n",
    "            \n",
    "        else:\n",
    "            img = inputs[idx].numpy().astype(np.float32)\n",
    "            img = img[0,:,:]\n",
    "        \n",
    "        plt.subplot(nrows, ncols, i_+1)\n",
    "        plt.imshow(img); \n",
    "        plt.axis('off')\n",
    " \n",
    "        i_ += 1\n",
    "        \n",
    "    return plt.show()"
   ]
  },
  {
   "cell_type": "code",
   "execution_count": 32,
   "metadata": {
    "scrolled": true
   },
   "outputs": [
    {
     "name": "stdout",
     "output_type": "stream",
     "text": [
      "torch.Size([10, 3, 128, 128]) torch.Size([10, 1, 128, 128])\n"
     ]
    },
    {
     "data": {
      "image/png": "[encoded data removed]",
      "text/plain": [
       "<Figure size 1000x1000 with 10 Axes>"
      ]
     },
     "metadata": {},
     "output_type": "display_data"
    },
    {
     "data": {
      "image/png": "[encoded data removed]",
      "text/plain": [
       "<Figure size 1000x1000 with 10 Axes>"
      ]
     },
     "metadata": {},
     "output_type": "display_data"
    }
   ],
   "source": [
    "images, masks = next(iter(train_dataloader))\n",
    "print(images.shape, masks.shape)\n",
    "\n",
    "show_aug(images)\n",
    "show_aug(masks, norm=False)"
   ]
  },
  {
   "cell_type": "code",
   "execution_count": null,
   "metadata": {},
   "outputs": [],
   "source": []
  },
  {
   "cell_type": "code",
   "execution_count": 33,
   "metadata": {},
   "outputs": [],
   "source": [
    "# ATTENTION UNET"
   ]
  },
  {
   "cell_type": "code",
   "execution_count": 34,
   "metadata": {},
   "outputs": [],
   "source": [
    "class ConvBlock(nn.Module):\n",
    "    def __init__(self, ch_in, ch_out):\n",
    "        super().__init__()\n",
    "        self.conv = nn.Sequential(\n",
    "                                  nn.Conv2d(ch_in, ch_out,\n",
    "                                            kernel_size=3, stride=1,\n",
    "                                            padding=1, bias=True),\n",
    "                                  nn.BatchNorm2d(ch_out),\n",
    "                                  nn.ReLU(inplace=True),\n",
    "                                  nn.Conv2d(ch_out, ch_out,\n",
    "                                            kernel_size=3, stride=1,\n",
    "                                            padding=1, bias=True),\n",
    "                                  nn.BatchNorm2d(ch_out),\n",
    "                                  nn.ReLU(inplace=True),\n",
    "        )\n",
    "        \n",
    "    def forward(self, x):\n",
    "        x = self.conv(x)\n",
    "        return x\n",
    "\n"
   ]
  },
  {
   "cell_type": "code",
   "execution_count": 35,
   "metadata": {},
   "outputs": [],
   "source": [
    "class UpConvBlock(nn.Module):\n",
    "    def __init__(self, ch_in, ch_out):\n",
    "        super().__init__()\n",
    "        self.up = nn.Sequential(\n",
    "                                nn.Upsample(scale_factor=2),\n",
    "                                nn.Conv2d(ch_in, ch_out,\n",
    "                                         kernel_size=3,stride=1,\n",
    "                                         padding=1, bias=True),\n",
    "                                nn.BatchNorm2d(ch_out),\n",
    "                                nn.ReLU(inplace=True),\n",
    "        )\n",
    "        \n",
    "    def forward(self, x):\n",
    "        x = x = self.up(x)\n",
    "        return x"
   ]
  },
  {
   "cell_type": "code",
   "execution_count": 36,
   "metadata": {},
   "outputs": [],
   "source": [
    "class AttentionBlock(nn.Module):\n",
    "    def __init__(self, f_g, f_l, f_int):\n",
    "        super().__init__()\n",
    "        \n",
    "        self.w_g = nn.Sequential(\n",
    "                                nn.Conv2d(f_g, f_int,\n",
    "                                         kernel_size=1, stride=1,\n",
    "                                         padding=0, bias=True),\n",
    "                                nn.BatchNorm2d(f_int)\n",
    "        )\n",
    "        \n",
    "        self.w_x = nn.Sequential(\n",
    "                                nn.Conv2d(f_l, f_int,\n",
    "                                         kernel_size=1, stride=1,\n",
    "                                         padding=0, bias=True),\n",
    "                                nn.BatchNorm2d(f_int)\n",
    "        )\n",
    "        \n",
    "        self.psi = nn.Sequential(\n",
    "                                nn.Conv2d(f_int, 1,\n",
    "                                         kernel_size=1, stride=1,\n",
    "                                         padding=0,  bias=True),\n",
    "                                nn.BatchNorm2d(1),\n",
    "                                nn.Sigmoid(),\n",
    "        )\n",
    "        \n",
    "        self.relu = nn.ReLU(inplace=True)\n",
    "        \n",
    "    def forward(self, g, x):\n",
    "        g1 = self.w_g(g)\n",
    "        x1 = self.w_x(x)\n",
    "        psi = self.relu(g1+x1)\n",
    "        psi = self.psi(psi)\n",
    "        \n",
    "        return psi*x"
   ]
  },
  {
   "cell_type": "code",
   "execution_count": 37,
   "metadata": {},
   "outputs": [],
   "source": [
    "#MODEL"
   ]
  },
  {
   "cell_type": "code",
   "execution_count": null,
   "metadata": {},
   "outputs": [],
   "source": []
  },
  {
   "cell_type": "code",
   "execution_count": null,
   "metadata": {},
   "outputs": [],
   "source": []
  },
  {
   "cell_type": "code",
   "execution_count": 38,
   "metadata": {},
   "outputs": [
    {
     "data": {
      "text/plain": [
       "torch.Size([1, 3, 256, 256])"
      ]
     },
     "execution_count": 38,
     "metadata": {},
     "output_type": "execute_result"
    }
   ],
   "source": [
    "# check sanity\n",
    "output = torch.randn(1,3,256,256).to(device)\n",
    "output.shape"
   ]
  },
  {
   "cell_type": "code",
   "execution_count": null,
   "metadata": {},
   "outputs": [],
   "source": []
  },
  {
   "cell_type": "code",
   "execution_count": null,
   "metadata": {},
   "outputs": [],
   "source": []
  },
  {
   "cell_type": "code",
   "execution_count": null,
   "metadata": {},
   "outputs": [],
   "source": []
  },
  {
   "cell_type": "code",
   "execution_count": null,
   "metadata": {},
   "outputs": [],
   "source": []
  },
  {
   "cell_type": "code",
   "execution_count": 39,
   "metadata": {},
   "outputs": [],
   "source": [
    "#UNET 3+ with attention"
   ]
  },
  {
   "cell_type": "code",
   "execution_count": 40,
   "metadata": {},
   "outputs": [],
   "source": [
    "import torch\n",
    "import torch.nn as nn\n",
    "from torch.nn import init\n",
    "\n",
    "def weights_init_normal(m):\n",
    "    classname = m.__class__.__name__\n",
    "    #print(classname)\n",
    "    if classname.find('Conv') != -1:\n",
    "        init.normal_(m.weight.data, 0.0, 0.02)\n",
    "    elif classname.find('Linear') != -1:\n",
    "        init.normal_(m.weight.data, 0.0, 0.02)\n",
    "    elif classname.find('BatchNorm') != -1:\n",
    "        init.normal_(m.weight.data, 1.0, 0.02)\n",
    "        init.constant_(m.bias.data, 0.0)\n",
    "\n",
    "\n",
    "def weights_init_xavier(m):\n",
    "    classname = m.__class__.__name__\n",
    "    #print(classname)\n",
    "    if classname.find('Conv') != -1:\n",
    "        init.xavier_normal_(m.weight.data, gain=1)\n",
    "    elif classname.find('Linear') != -1:\n",
    "        init.xavier_normal_(m.weight.data, gain=1)\n",
    "    elif classname.find('BatchNorm') != -1:\n",
    "        init.normal_(m.weight.data, 1.0, 0.02)\n",
    "        init.constant_(m.bias.data, 0.0)\n",
    "\n",
    "\n",
    "def weights_init_kaiming(m):\n",
    "    classname = m.__class__.__name__\n",
    "    #print(classname)\n",
    "    if classname.find('Conv') != -1:\n",
    "        init.kaiming_normal_(m.weight.data, a=0, mode='fan_in')\n",
    "    elif classname.find('Linear') != -1:\n",
    "        init.kaiming_normal_(m.weight.data, a=0, mode='fan_in')\n",
    "    elif classname.find('BatchNorm') != -1:\n",
    "        init.normal_(m.weight.data, 1.0, 0.02)\n",
    "        init.constant_(m.bias.data, 0.0)\n",
    "\n",
    "\n",
    "def weights_init_orthogonal(m):\n",
    "    classname = m.__class__.__name__\n",
    "    #print(classname)\n",
    "    if classname.find('Conv') != -1:\n",
    "        init.orthogonal_(m.weight.data, gain=1)\n",
    "    elif classname.find('Linear') != -1:\n",
    "        init.orthogonal_(m.weight.data, gain=1)\n",
    "    elif classname.find('BatchNorm') != -1:\n",
    "        init.normal_(m.weight.data, 1.0, 0.02)\n",
    "        init.constant_(m.bias.data, 0.0)\n",
    "\n",
    "\n",
    "def init_weights(net, init_type='normal'):\n",
    "    #print('initialization method [%s]' % init_type)\n",
    "    if init_type == 'normal':\n",
    "        net.apply(weights_init_normal)\n",
    "    elif init_type == 'xavier':\n",
    "        net.apply(weights_init_xavier)\n",
    "    elif init_type == 'kaiming':\n",
    "        net.apply(weights_init_kaiming)\n",
    "    elif init_type == 'orthogonal':\n",
    "        net.apply(weights_init_orthogonal)\n",
    "    else:\n",
    "        raise NotImplementedError('initialization method [%s] is not implemented' % init_type)"
   ]
  },
  {
   "cell_type": "code",
   "execution_count": 41,
   "metadata": {},
   "outputs": [],
   "source": [
    "class unetConv2(nn.Module):\n",
    "    def __init__(self, in_size, out_size, is_batchnorm, n=2, ks=3, stride=1, padding=1):\n",
    "        super(unetConv2, self).__init__()\n",
    "        self.n = n\n",
    "        self.ks = ks\n",
    "        self.stride = stride\n",
    "        self.padding = padding\n",
    "        s = stride\n",
    "        p = padding\n",
    "        if is_batchnorm:\n",
    "            for i in range(1, n + 1):\n",
    "                conv = nn.Sequential(nn.Conv2d(in_size, out_size, ks, s, p),\n",
    "                                     nn.BatchNorm2d(out_size),\n",
    "                                     nn.ReLU(inplace=True), )\n",
    "                setattr(self, 'conv%d' % i, conv)\n",
    "                in_size = out_size\n",
    "\n",
    "        else:\n",
    "            for i in range(1, n + 1):\n",
    "                conv = nn.Sequential(nn.Conv2d(in_size, out_size, ks, s, p),\n",
    "                                     nn.ReLU(inplace=True), )\n",
    "                setattr(self, 'conv%d' % i, conv)\n",
    "                in_size = out_size\n",
    "\n",
    "        # initialise the blocks\n",
    "        for m in self.children():\n",
    "            init_weights(m, init_type='kaiming')\n",
    "\n",
    "    def forward(self, inputs):\n",
    "        x = inputs\n",
    "        for i in range(1, self.n + 1):\n",
    "            conv = getattr(self, 'conv%d' % i)\n",
    "            x = conv(x)\n",
    "\n",
    "        return x"
   ]
  },
  {
   "cell_type": "code",
   "execution_count": null,
   "metadata": {},
   "outputs": [],
   "source": []
  },
  {
   "cell_type": "code",
   "execution_count": 42,
   "metadata": {},
   "outputs": [],
   "source": [
    "'''\n",
    "    UNet 3+ with attention\n",
    "'''\n",
    "class UNet_3Plus_attn(nn.Module):\n",
    "\n",
    "    def __init__(self, in_channels=3, n_classes=1, feature_scale=4, is_deconv=True, is_batchnorm=True):\n",
    "        super(UNet_3Plus_attn, self).__init__()\n",
    "        self.is_deconv = is_deconv\n",
    "        self.in_channels = in_channels\n",
    "        self.is_batchnorm = is_batchnorm\n",
    "        self.feature_scale = feature_scale\n",
    "\n",
    "        filters = [64, 128, 256, 512, 1024]\n",
    "\n",
    "        ## -------------Encoder--------------\n",
    "        self.conv1 = unetConv2(self.in_channels, filters[0], self.is_batchnorm)\n",
    "        self.maxpool1 = nn.MaxPool2d(kernel_size=2)\n",
    "\n",
    "        self.conv2 = unetConv2(filters[0], filters[1], self.is_batchnorm)\n",
    "        self.maxpool2 = nn.MaxPool2d(kernel_size=2)\n",
    "\n",
    "        self.conv3 = unetConv2(filters[1], filters[2], self.is_batchnorm)\n",
    "        self.maxpool3 = nn.MaxPool2d(kernel_size=2)\n",
    "\n",
    "        self.conv4 = unetConv2(filters[2], filters[3], self.is_batchnorm)\n",
    "        self.maxpool4 = nn.MaxPool2d(kernel_size=2)\n",
    "\n",
    "        self.conv5 = unetConv2(filters[3], filters[4], self.is_batchnorm)\n",
    "\n",
    "        ## -------------Decoder--------------\n",
    "        self.CatChannels = filters[0]\n",
    "        self.CatBlocks = 5\n",
    "        self.UpChannels = self.CatChannels * self.CatBlocks\n",
    "\n",
    "        '''stage 4d'''\n",
    "        # h1->320*320, hd4->40*40, Pooling 8 times\n",
    "        self.h1_PT_hd4 = nn.MaxPool2d(8, 8, ceil_mode=True)\n",
    "        self.h1_PT_hd4_conv = nn.Conv2d(filters[0], self.CatChannels, 3, padding=1)\n",
    "        self.h1_PT_hd4_bn = nn.BatchNorm2d(self.CatChannels)\n",
    "        self.h1_PT_hd4_relu = nn.ReLU(inplace=True)\n",
    "        self.att4 = AttentionBlock(f_g=256, f_l=64, f_int=256)\n",
    "\n",
    "        # h2->160*160, hd4->40*40, Pooling 4 times\n",
    "        self.h2_PT_hd4 = nn.MaxPool2d(4, 4, ceil_mode=True)\n",
    "        self.h2_PT_hd4_conv = nn.Conv2d(filters[1], self.CatChannels, 3, padding=1)\n",
    "        self.h2_PT_hd4_bn = nn.BatchNorm2d(self.CatChannels)\n",
    "        self.h2_PT_hd4_relu = nn.ReLU(inplace=True)\n",
    "        \n",
    "\n",
    "        # h3->80*80, hd4->40*40, Pooling 2 times\n",
    "        self.h3_PT_hd4 = nn.MaxPool2d(2, 2, ceil_mode=True)\n",
    "        self.h3_PT_hd4_conv = nn.Conv2d(filters[2], self.CatChannels, 3, padding=1)\n",
    "        self.h3_PT_hd4_bn = nn.BatchNorm2d(self.CatChannels)\n",
    "        self.h3_PT_hd4_relu = nn.ReLU(inplace=True)\n",
    "\n",
    "        # h4->40*40, hd4->40*40, Concatenation\n",
    "        self.h4_Cat_hd4_conv = nn.Conv2d(filters[3], self.CatChannels, 3, padding=1)\n",
    "        self.h4_Cat_hd4_bn = nn.BatchNorm2d(self.CatChannels)\n",
    "        self.h4_Cat_hd4_relu = nn.ReLU(inplace=True)\n",
    "\n",
    "        # hd5->20*20, hd4->40*40, Upsample 2 times\n",
    "        self.hd5_UT_hd4 = nn.Upsample(scale_factor=2, mode='bilinear')  # 14*14\n",
    "        self.hd5_UT_hd4_conv = nn.Conv2d(filters[4], self.CatChannels, 3, padding=1)\n",
    "        self.hd5_UT_hd4_bn = nn.BatchNorm2d(self.CatChannels)\n",
    "        self.hd5_UT_hd4_relu = nn.ReLU(inplace=True)\n",
    "\n",
    "        # fusion(h1_PT_hd4, h2_PT_hd4, h3_PT_hd4, h4_Cat_hd4, hd5_UT_hd4)\n",
    "#         self.conv4d_1 = nn.Conv2d(self.UpChannels, self.UpChannels, 3, padding=1)  # 16\n",
    "# modified\n",
    "#         self.conv4d_1 = nn.Conv2d(128, self.UpChannels, 3, padding=1)  # 16 # if only 2 inputs concatenated(each input 64 size) \n",
    "        self.conv4d_1 = nn.Conv2d(384, self.UpChannels, 3, padding=1)  # 16 (6*64 = 384)\n",
    "    \n",
    "        self.bn4d_1 = nn.BatchNorm2d(self.UpChannels)\n",
    "        self.relu4d_1 = nn.ReLU(inplace=True)\n",
    "\n",
    "        '''stage 3d'''\n",
    "        self.att3 = AttentionBlock(f_g=256, f_l=64, f_int=256)\n",
    "        \n",
    "        # h1->320*320, hd3->80*80, Pooling 4 times\n",
    "        self.h1_PT_hd3 = nn.MaxPool2d(4, 4, ceil_mode=True)\n",
    "        self.h1_PT_hd3_conv = nn.Conv2d(filters[0], self.CatChannels, 3, padding=1)\n",
    "        self.h1_PT_hd3_bn = nn.BatchNorm2d(self.CatChannels)\n",
    "        self.h1_PT_hd3_relu = nn.ReLU(inplace=True)\n",
    "\n",
    "        # h2->160*160, hd3->80*80, Pooling 2 times\n",
    "        self.h2_PT_hd3 = nn.MaxPool2d(2, 2, ceil_mode=True)\n",
    "        self.h2_PT_hd3_conv = nn.Conv2d(filters[1], self.CatChannels, 3, padding=1)\n",
    "        self.h2_PT_hd3_bn = nn.BatchNorm2d(self.CatChannels)\n",
    "        self.h2_PT_hd3_relu = nn.ReLU(inplace=True)\n",
    "\n",
    "        # h3->80*80, hd3->80*80, Concatenation\n",
    "        self.h3_Cat_hd3_conv = nn.Conv2d(filters[2], self.CatChannels, 3, padding=1)\n",
    "        self.h3_Cat_hd3_bn = nn.BatchNorm2d(self.CatChannels)\n",
    "        self.h3_Cat_hd3_relu = nn.ReLU(inplace=True)\n",
    "\n",
    "        # hd4->40*40, hd4->80*80, Upsample 2 times\n",
    "        self.hd4_UT_hd3 = nn.Upsample(scale_factor=2, mode='bilinear')  # 14*14\n",
    "        self.hd4_UT_hd3_conv = nn.Conv2d(self.UpChannels, self.CatChannels, 3, padding=1)\n",
    "        self.hd4_UT_hd3_bn = nn.BatchNorm2d(self.CatChannels)\n",
    "        self.hd4_UT_hd3_relu = nn.ReLU(inplace=True)\n",
    "\n",
    "        # hd5->20*20, hd4->80*80, Upsample 4 times\n",
    "        self.hd5_UT_hd3 = nn.Upsample(scale_factor=4, mode='bilinear')  # 14*14\n",
    "        self.hd5_UT_hd3_conv = nn.Conv2d(filters[4], self.CatChannels, 3, padding=1)\n",
    "        self.hd5_UT_hd3_bn = nn.BatchNorm2d(self.CatChannels)\n",
    "        self.hd5_UT_hd3_relu = nn.ReLU(inplace=True)\n",
    "\n",
    "        # fusion(h1_PT_hd3, h2_PT_hd3, h3_Cat_hd3, hd4_UT_hd3, hd5_UT_hd3)\n",
    "        self.conv3d_1 = nn.Conv2d(384, self.UpChannels, 3, padding=1)  # 16\n",
    "        self.bn3d_1 = nn.BatchNorm2d(self.UpChannels)\n",
    "        self.relu3d_1 = nn.ReLU(inplace=True)\n",
    "\n",
    "        '''stage 2d '''\n",
    "        self.att2 = AttentionBlock(f_g=256, f_l=64, f_int=256)\n",
    "        \n",
    "        \n",
    "        # h1->320*320, hd2->160*160, Pooling 2 times\n",
    "        self.h1_PT_hd2 = nn.MaxPool2d(2, 2, ceil_mode=True)\n",
    "        self.h1_PT_hd2_conv = nn.Conv2d(filters[0], self.CatChannels, 3, padding=1)\n",
    "        self.h1_PT_hd2_bn = nn.BatchNorm2d(self.CatChannels)\n",
    "        self.h1_PT_hd2_relu = nn.ReLU(inplace=True)\n",
    "\n",
    "        # h2->160*160, hd2->160*160, Concatenation\n",
    "        self.h2_Cat_hd2_conv = nn.Conv2d(filters[1], self.CatChannels, 3, padding=1)\n",
    "        self.h2_Cat_hd2_bn = nn.BatchNorm2d(self.CatChannels)\n",
    "        self.h2_Cat_hd2_relu = nn.ReLU(inplace=True)\n",
    "\n",
    "        # hd3->80*80, hd2->160*160, Upsample 2 times\n",
    "        self.hd3_UT_hd2 = nn.Upsample(scale_factor=2, mode='bilinear')  # 14*14\n",
    "        self.hd3_UT_hd2_conv = nn.Conv2d(self.UpChannels, self.CatChannels, 3, padding=1)\n",
    "        self.hd3_UT_hd2_bn = nn.BatchNorm2d(self.CatChannels)\n",
    "        self.hd3_UT_hd2_relu = nn.ReLU(inplace=True)\n",
    "\n",
    "        # hd4->40*40, hd2->160*160, Upsample 4 times\n",
    "        self.hd4_UT_hd2 = nn.Upsample(scale_factor=4, mode='bilinear')  # 14*14\n",
    "        self.hd4_UT_hd2_conv = nn.Conv2d(self.UpChannels, self.CatChannels, 3, padding=1)\n",
    "        self.hd4_UT_hd2_bn = nn.BatchNorm2d(self.CatChannels)\n",
    "        self.hd4_UT_hd2_relu = nn.ReLU(inplace=True)\n",
    "\n",
    "        # hd5->20*20, hd2->160*160, Upsample 8 times\n",
    "        self.hd5_UT_hd2 = nn.Upsample(scale_factor=8, mode='bilinear')  # 14*14\n",
    "        self.hd5_UT_hd2_conv = nn.Conv2d(filters[4], self.CatChannels, 3, padding=1)\n",
    "        self.hd5_UT_hd2_bn = nn.BatchNorm2d(self.CatChannels)\n",
    "        self.hd5_UT_hd2_relu = nn.ReLU(inplace=True)\n",
    "\n",
    "        # fusion(h1_PT_hd2, h2_Cat_hd2, hd3_UT_hd2, hd4_UT_hd2, hd5_UT_hd2)\n",
    "        self.conv2d_1 = nn.Conv2d(384, self.UpChannels, 3, padding=1)  # 16\n",
    "        self.bn2d_1 = nn.BatchNorm2d(self.UpChannels)\n",
    "        self.relu2d_1 = nn.ReLU(inplace=True)\n",
    "\n",
    "        '''stage 1d'''\n",
    "        self.att1 = AttentionBlock(f_g=256, f_l=64, f_int=256)\n",
    "        \n",
    "        # h1->320*320, hd1->320*320, Concatenation\n",
    "        self.h1_Cat_hd1_conv = nn.Conv2d(filters[0], self.CatChannels, 3, padding=1)\n",
    "        self.h1_Cat_hd1_bn = nn.BatchNorm2d(self.CatChannels)\n",
    "        self.h1_Cat_hd1_relu = nn.ReLU(inplace=True)\n",
    "\n",
    "        # hd2->160*160, hd1->320*320, Upsample 2 times\n",
    "        self.hd2_UT_hd1 = nn.Upsample(scale_factor=2, mode='bilinear')  # 14*14\n",
    "        self.hd2_UT_hd1_conv = nn.Conv2d(self.UpChannels, self.CatChannels, 3, padding=1)\n",
    "        self.hd2_UT_hd1_bn = nn.BatchNorm2d(self.CatChannels)\n",
    "        self.hd2_UT_hd1_relu = nn.ReLU(inplace=True)\n",
    "\n",
    "        # hd3->80*80, hd1->320*320, Upsample 4 times\n",
    "        self.hd3_UT_hd1 = nn.Upsample(scale_factor=4, mode='bilinear')  # 14*14\n",
    "        self.hd3_UT_hd1_conv = nn.Conv2d(self.UpChannels, self.CatChannels, 3, padding=1)\n",
    "        self.hd3_UT_hd1_bn = nn.BatchNorm2d(self.CatChannels)\n",
    "        self.hd3_UT_hd1_relu = nn.ReLU(inplace=True)\n",
    "\n",
    "        # hd4->40*40, hd1->320*320, Upsample 8 times\n",
    "        self.hd4_UT_hd1 = nn.Upsample(scale_factor=8, mode='bilinear')  # 14*14\n",
    "        self.hd4_UT_hd1_conv = nn.Conv2d(self.UpChannels, self.CatChannels, 3, padding=1)\n",
    "        self.hd4_UT_hd1_bn = nn.BatchNorm2d(self.CatChannels)\n",
    "        self.hd4_UT_hd1_relu = nn.ReLU(inplace=True)\n",
    "\n",
    "        # hd5->20*20, hd1->320*320, Upsample 16 times\n",
    "        self.hd5_UT_hd1 = nn.Upsample(scale_factor=16, mode='bilinear')  # 14*14\n",
    "        self.hd5_UT_hd1_conv = nn.Conv2d(filters[4], self.CatChannels, 3, padding=1)\n",
    "        self.hd5_UT_hd1_bn = nn.BatchNorm2d(self.CatChannels)\n",
    "        self.hd5_UT_hd1_relu = nn.ReLU(inplace=True)\n",
    "\n",
    "        # fusion(h1_Cat_hd1, hd2_UT_hd1, hd3_UT_hd1, hd4_UT_hd1, hd5_UT_hd1)\n",
    "        self.conv1d_1 = nn.Conv2d(384, self.UpChannels, 3, padding=1)  # 16\n",
    "        self.bn1d_1 = nn.BatchNorm2d(self.UpChannels)\n",
    "        self.relu1d_1 = nn.ReLU(inplace=True)\n",
    "\n",
    "        # output\n",
    "        self.outconv1 = nn.Conv2d(self.UpChannels, n_classes, 3, padding=1)\n",
    "\n",
    "        # initialise weights\n",
    "        for m in self.modules():\n",
    "            if isinstance(m, nn.Conv2d):\n",
    "                init_weights(m, init_type='kaiming')\n",
    "            elif isinstance(m, nn.BatchNorm2d):\n",
    "                init_weights(m, init_type='kaiming')\n",
    "\n",
    "    def forward(self, inputs):\n",
    "        ## -------------Encoder-------------\n",
    "        h1 = self.conv1(inputs)  # h1->320*320*64\n",
    "\n",
    "        h2 = self.maxpool1(h1)\n",
    "        h2 = self.conv2(h2)  # h2->160*160*128\n",
    "\n",
    "        h3 = self.maxpool2(h2)\n",
    "        h3 = self.conv3(h3)  # h3->80*80*256\n",
    "\n",
    "        h4 = self.maxpool3(h3)\n",
    "        h4 = self.conv4(h4)  # h4->40*40*512\n",
    "\n",
    "        h5 = self.maxpool4(h4)\n",
    "        hd5 = self.conv5(h5)  # h5->20*20*1024\n",
    "\n",
    "        ## -------------Decoder-------------\n",
    "        h1_PT_hd4 = self.h1_PT_hd4_relu(self.h1_PT_hd4_bn(self.h1_PT_hd4_conv(self.h1_PT_hd4(h1))))\n",
    "        h2_PT_hd4 = self.h2_PT_hd4_relu(self.h2_PT_hd4_bn(self.h2_PT_hd4_conv(self.h2_PT_hd4(h2))))\n",
    "        h3_PT_hd4 = self.h3_PT_hd4_relu(self.h3_PT_hd4_bn(self.h3_PT_hd4_conv(self.h3_PT_hd4(h3))))\n",
    "        h4_Cat_hd4 = self.h4_Cat_hd4_relu(self.h4_Cat_hd4_bn(self.h4_Cat_hd4_conv(h4)))\n",
    "        hd5_UT_hd4 = self.hd5_UT_hd4_relu(self.hd5_UT_hd4_bn(self.hd5_UT_hd4_conv(self.hd5_UT_hd4(hd5))))\n",
    "# #         modified\n",
    "        temp_cat4 = torch.cat((h1_PT_hd4, h2_PT_hd4, h3_PT_hd4, h4_Cat_hd4), 1)\n",
    "        outatt4 = self.att4(g=temp_cat4, x=hd5_UT_hd4)\n",
    "#         print(\"outatt4\", outatt4.shape)\n",
    "#         print(\"hd5_UT_hd4\", hd5_UT_hd4.shape)\n",
    "        hd4 = self.relu4d_1(self.bn4d_1(self.conv4d_1(\n",
    "            torch.cat((h1_PT_hd4, h2_PT_hd4, h3_PT_hd4, h4_Cat_hd4, outatt4, hd5_UT_hd4), 1)))) # hd4->40*40*UpChannels\n",
    "#         hd4 = self.relu4d_1(self.bn4d_1(self.conv4d_1(\n",
    "#             torch.cat((h1_PT_hd4, h2_PT_hd4, h3_PT_hd4, h4_Cat_hd4, hd5_UT_hd4), 1)))) # hd4->40*40*UpChannels\n",
    "#         print(\"h4_Cat_hd4\", h4_Cat_hd4.shape)\n",
    "#         print(\"hd5_UT_hd4\", hd5_UT_hd4.shape)\n",
    "#         print(\"cat shape\", torch.cat((h1_PT_hd4, h2_PT_hd4, h3_PT_hd4, h4_Cat_hd4, hd5_UT_hd4), 1).shape)\n",
    "#         print(\"hd4 shape\", hd4.shape)\n",
    "        \n",
    "# h4_Cat_hd4 torch.Size([26, 64, 16, 16])\n",
    "# hd5_UT_hd4 torch.Size([26, 64, 16, 16])\n",
    "# cat shape torch.Size([26, 320, 16, 16])\n",
    "# hd4 shape torch.Size([26, 320, 16, 16])\n",
    "\n",
    "        \n",
    "        h1_PT_hd3 = self.h1_PT_hd3_relu(self.h1_PT_hd3_bn(self.h1_PT_hd3_conv(self.h1_PT_hd3(h1))))\n",
    "        h2_PT_hd3 = self.h2_PT_hd3_relu(self.h2_PT_hd3_bn(self.h2_PT_hd3_conv(self.h2_PT_hd3(h2))))\n",
    "        h3_Cat_hd3 = self.h3_Cat_hd3_relu(self.h3_Cat_hd3_bn(self.h3_Cat_hd3_conv(h3)))\n",
    "        hd4_UT_hd3 = self.hd4_UT_hd3_relu(self.hd4_UT_hd3_bn(self.hd4_UT_hd3_conv(self.hd4_UT_hd3(hd4))))\n",
    "        hd5_UT_hd3 = self.hd5_UT_hd3_relu(self.hd5_UT_hd3_bn(self.hd5_UT_hd3_conv(self.hd5_UT_hd3(hd5))))\n",
    "        temp_cat3 = torch.cat((h1_PT_hd3, h2_PT_hd3, h3_Cat_hd3, hd5_UT_hd3), 1)\n",
    "        outatt3 = self.att3(g=temp_cat3, x=hd4_UT_hd3)\n",
    "#         print(\"outatt4\", outatt4.shape)\n",
    "#         print(\"hd5_UT_hd4\", hd5_UT_hd4.shape)\n",
    "        hd3 = self.relu3d_1(self.bn3d_1(self.conv3d_1(\n",
    "            torch.cat((h1_PT_hd3, h2_PT_hd3, h3_Cat_hd3, hd4_UT_hd3, outatt3, hd5_UT_hd3), 1))))\n",
    "#         hd3 = self.relu3d_1(self.bn3d_1(self.conv3d_1(\n",
    "#             torch.cat((h1_PT_hd3, h2_PT_hd3, h3_Cat_hd3, hd4_UT_hd3, hd5_UT_hd3), 1)))) # hd3->80*80*UpChannels\n",
    "\n",
    "        h1_PT_hd2 = self.h1_PT_hd2_relu(self.h1_PT_hd2_bn(self.h1_PT_hd2_conv(self.h1_PT_hd2(h1))))\n",
    "        h2_Cat_hd2 = self.h2_Cat_hd2_relu(self.h2_Cat_hd2_bn(self.h2_Cat_hd2_conv(h2)))\n",
    "        hd3_UT_hd2 = self.hd3_UT_hd2_relu(self.hd3_UT_hd2_bn(self.hd3_UT_hd2_conv(self.hd3_UT_hd2(hd3))))\n",
    "        hd4_UT_hd2 = self.hd4_UT_hd2_relu(self.hd4_UT_hd2_bn(self.hd4_UT_hd2_conv(self.hd4_UT_hd2(hd4))))\n",
    "        hd5_UT_hd2 = self.hd5_UT_hd2_relu(self.hd5_UT_hd2_bn(self.hd5_UT_hd2_conv(self.hd5_UT_hd2(hd5))))\n",
    "        temp_cat2 = torch.cat((h1_PT_hd2, h2_Cat_hd2, hd5_UT_hd2, hd4_UT_hd2), 1)\n",
    "        outatt2 = self.att2(g=temp_cat2, x=hd3_UT_hd2)\n",
    "#         hd2 = self.relu2d_1(self.bn2d_1(self.conv2d_1(\n",
    "#             torch.cat((h1_PT_hd2, h2_Cat_hd2, hd3_UT_hd2, hd4_UT_hd2, hd5_UT_hd2), 1)))) # hd2->160*160*UpChannels\n",
    "        hd2 = self.relu2d_1(self.bn2d_1(self.conv2d_1(torch.cat((h1_PT_hd2, h2_Cat_hd2, hd3_UT_hd2, hd4_UT_hd2, outatt2, hd5_UT_hd2), 1))))\n",
    "\n",
    "        h1_Cat_hd1 = self.h1_Cat_hd1_relu(self.h1_Cat_hd1_bn(self.h1_Cat_hd1_conv(h1)))\n",
    "        hd2_UT_hd1 = self.hd2_UT_hd1_relu(self.hd2_UT_hd1_bn(self.hd2_UT_hd1_conv(self.hd2_UT_hd1(hd2))))\n",
    "        hd3_UT_hd1 = self.hd3_UT_hd1_relu(self.hd3_UT_hd1_bn(self.hd3_UT_hd1_conv(self.hd3_UT_hd1(hd3))))\n",
    "        hd4_UT_hd1 = self.hd4_UT_hd1_relu(self.hd4_UT_hd1_bn(self.hd4_UT_hd1_conv(self.hd4_UT_hd1(hd4))))\n",
    "        hd5_UT_hd1 = self.hd5_UT_hd1_relu(self.hd5_UT_hd1_bn(self.hd5_UT_hd1_conv(self.hd5_UT_hd1(hd5))))\n",
    "#         hd1 = self.relu1d_1(self.bn1d_1(self.conv1d_1(\n",
    "#             torch.cat((h1_Cat_hd1, hd2_UT_hd1, hd3_UT_hd1, hd4_UT_hd1, hd5_UT_hd1), 1)))) # hd1->320*320*UpChannels\n",
    "        temp_cat1 = torch.cat((h1_Cat_hd1, hd5_UT_hd1, hd3_UT_hd1, hd4_UT_hd1), 1)\n",
    "        outatt1 = self.att1(g=temp_cat1, x=hd2_UT_hd1)\n",
    "        hd1 = self.relu1d_1(self.bn1d_1(self.conv1d_1(\n",
    "            torch.cat((h1_Cat_hd1, hd2_UT_hd1, hd3_UT_hd1, hd4_UT_hd1, outatt1, hd5_UT_hd1), 1))))\n",
    "        \n",
    "        d1 = self.outconv1(hd1)  # d1->320*320*n_classes\n",
    "        return F.sigmoid(d1)"
   ]
  },
  {
   "cell_type": "code",
   "execution_count": 43,
   "metadata": {},
   "outputs": [],
   "source": [
    "unet3p_attn = UNet_3Plus_attn(n_classes=1).to(device)"
   ]
  },
  {
   "cell_type": "code",
   "execution_count": null,
   "metadata": {},
   "outputs": [],
   "source": []
  },
  {
   "cell_type": "code",
   "execution_count": null,
   "metadata": {},
   "outputs": [],
   "source": []
  },
  {
   "cell_type": "code",
   "execution_count": null,
   "metadata": {},
   "outputs": [],
   "source": []
  },
  {
   "cell_type": "code",
   "execution_count": null,
   "metadata": {},
   "outputs": [],
   "source": []
  },
  {
   "cell_type": "code",
   "execution_count": null,
   "metadata": {},
   "outputs": [],
   "source": []
  },
  {
   "cell_type": "code",
   "execution_count": null,
   "metadata": {},
   "outputs": [],
   "source": []
  },
  {
   "cell_type": "code",
   "execution_count": null,
   "metadata": {},
   "outputs": [],
   "source": []
  },
  {
   "cell_type": "code",
   "execution_count": 44,
   "metadata": {},
   "outputs": [],
   "source": [
    "#SEGMENTATION METRIC"
   ]
  },
  {
   "cell_type": "code",
   "execution_count": 45,
   "metadata": {},
   "outputs": [],
   "source": [
    "def dice_coef_metric(inputs, target): # ORIGINAL\n",
    "    intersection = 2.0 * (target*inputs).sum()\n",
    "    union = target.sum() + inputs.sum()\n",
    "    if target.sum() == 0 and inputs.sum() == 0:\n",
    "        return 1.0 \n",
    "    return intersection/union"
   ]
  },
  {
   "cell_type": "code",
   "execution_count": 46,
   "metadata": {},
   "outputs": [],
   "source": [
    "# def dice_coef_metric(y_true, y_pred, smooth=1):\n",
    "#     y_true_f = torch.flatten(torch.tensor(y_true))\n",
    "#     y_pred_f = torch.flatten(torch.tensor(y_pred))\n",
    "\n",
    "#     intersection = (y_true_f * y_pred_f).view(-1).sum()\n",
    "#     sums = (y_true_f).view(-1).sum() + (y_pred_f).view(-1).sum()\n",
    "\n",
    "#     return (2*intersection + smooth) / (sums + intersection + smooth)"
   ]
  },
  {
   "cell_type": "code",
   "execution_count": 47,
   "metadata": {},
   "outputs": [],
   "source": [
    "#Segmentation Loss"
   ]
  },
  {
   "cell_type": "code",
   "execution_count": 48,
   "metadata": {},
   "outputs": [],
   "source": [
    "class DiceLoss(nn.Module):\n",
    "    def __init__(self, weight=None, size_average=True):\n",
    "        super(DiceLoss, self).__init__()\n",
    "\n",
    "    def forward(self, inputs, targets, smooth=1):\n",
    "        \n",
    "        #comment out if your model contains a sigmoid or equivalent activation layer\n",
    "#         inputs = F.sigmoid(inputs)       \n",
    "        \n",
    "        #flatten label and prediction tensors\n",
    "        inputs = inputs.view(-1)\n",
    "        targets = targets.view(-1)\n",
    "        \n",
    "        intersection = (inputs * targets).sum()                            \n",
    "        dice = (2.*intersection + smooth)/(inputs.sum() + targets.sum() + smooth)  \n",
    "        \n",
    "        return 1 - dice"
   ]
  },
  {
   "cell_type": "code",
   "execution_count": 49,
   "metadata": {},
   "outputs": [
    {
     "name": "stderr",
     "output_type": "stream",
     "text": [
      "/Users/srikeshnagoji/miniforge3/envs/capstone/lib/python3.9/site-packages/torch/nn/functional.py:1960: UserWarning: nn.functional.sigmoid is deprecated. Use torch.sigmoid instead.\n",
      "  warnings.warn(\"nn.functional.sigmoid is deprecated. Use torch.sigmoid instead.\")\n"
     ]
    },
    {
     "data": {
      "text/plain": [
       "tensor(0.1419)"
      ]
     },
     "execution_count": 49,
     "metadata": {},
     "output_type": "execute_result"
    }
   ],
   "source": [
    "# sanity check\n",
    "DiceLoss()(F.sigmoid(torch.tensor([0.7, 1., 1.])), \n",
    "              torch.tensor([1.,1.,1.]))"
   ]
  },
  {
   "cell_type": "code",
   "execution_count": 50,
   "metadata": {},
   "outputs": [],
   "source": [
    "# Training"
   ]
  },
  {
   "cell_type": "code",
   "execution_count": 51,
   "metadata": {},
   "outputs": [],
   "source": [
    "PATH = \"model_unet_3p_attn.pt\"\n",
    "\n"
   ]
  },
  {
   "cell_type": "code",
   "execution_count": 52,
   "metadata": {},
   "outputs": [],
   "source": [
    "def train_model(model_name, model, train_loader, val_loader, train_loss, optimizer, lr_scheduler, num_epochs):\n",
    "    print(f\"[INFO] Model is initializing... {model_name}\")\n",
    "    \n",
    "    loss_history = []\n",
    "    train_history = []\n",
    "    val_history = []\n",
    "    \n",
    "    loss_ = 999\n",
    "    \n",
    "    for epoch in range(num_epochs):\n",
    "        model.train()\n",
    "        \n",
    "        losses = []\n",
    "        train_iou = []\n",
    "        \n",
    "        for i_step, (data, target) in enumerate(tqdm(train_loader)):\n",
    "            data = data.to(device)\n",
    "            target = target.to(device)\n",
    "            \n",
    "            outputs = model(data)\n",
    "            \n",
    "            out_cut = np.copy(outputs.data.cpu().numpy())\n",
    "            out_cut[np.nonzero(out_cut < 0.5)] = 0.0\n",
    "            out_cut[np.nonzero(out_cut >= 0.5)] = 1.0\n",
    "            \n",
    "            train_dice = dice_coef_metric(out_cut, target.data.cpu().numpy())\n",
    "            \n",
    "            loss = train_loss(outputs, target)\n",
    "            \n",
    "            losses.append(loss.item())\n",
    "            train_iou.append(train_dice)\n",
    "\n",
    "            optimizer.zero_grad()\n",
    "            loss.backward()\n",
    "            optimizer.step()\n",
    "            \n",
    "            if loss<loss_:\n",
    "                torch.save({\n",
    "                    'epoch': epoch,\n",
    "                    'model_state_dict': model.state_dict(),\n",
    "                    'optimizer_state_dict': optimizer.state_dict(),\n",
    "                    'loss': np.array(losses).mean(),\n",
    "                    }, \"model_unet_3p_attn_best.pt\")\n",
    "                loss_ = loss\n",
    "            \n",
    "        val_mean_iou = compute_iou(model, val_loader)\n",
    "        \n",
    "        loss_history.append(np.array(losses).mean())\n",
    "        train_history.append(np.array(train_iou).mean())\n",
    "        val_history.append(val_mean_iou)\n",
    "        \n",
    "        \n",
    "        torch.save({\n",
    "                    'epoch': epoch,\n",
    "                    'model_state_dict': model.state_dict(),\n",
    "                    'optimizer_state_dict': optimizer.state_dict(),\n",
    "                    'loss': np.array(losses).mean(),\n",
    "                    }, PATH)\n",
    "        \n",
    "#         print(\"losses:\", np.array(losses))\n",
    "#         print(\"iou:\", np.array(train_iou))\n",
    "        print(\"Epoch [%d]\" % (epoch))\n",
    "        print(\"Mean loss on train:\", np.array(losses).mean(), \n",
    "              \"\\nMean DICE on train:\", np.array(train_iou).mean(), \n",
    "              \"\\nMean DICE on validation:\", val_mean_iou)\n",
    "        \n",
    "    return loss_history, train_history, val_history"
   ]
  },
  {
   "cell_type": "code",
   "execution_count": 53,
   "metadata": {},
   "outputs": [],
   "source": [
    "def compute_iou(model, loader, threshold=0.3):\n",
    "    valloss = 0\n",
    "    \n",
    "    with torch.no_grad():\n",
    "\n",
    "        for i_step, (data, target) in enumerate(loader):\n",
    "            \n",
    "            data = data.to(device)\n",
    "            target = target.to(device)\n",
    "            \n",
    "            outputs = model(data)\n",
    "\n",
    "            out_cut = np.copy(outputs.data.cpu().numpy())\n",
    "            out_cut[np.nonzero(out_cut < threshold)] = 0.0\n",
    "            out_cut[np.nonzero(out_cut >= threshold)] = 1.0\n",
    "            picloss = dice_coef_metric(out_cut, target.data.cpu().numpy())\n",
    "            valloss += picloss\n",
    "\n",
    "    return valloss / i_step"
   ]
  },
  {
   "cell_type": "code",
   "execution_count": 54,
   "metadata": {},
   "outputs": [],
   "source": [
    "opt = torch.optim.Adamax(unet3p_attn.parameters(), lr=1e-3)"
   ]
  },
  {
   "cell_type": "code",
   "execution_count": null,
   "metadata": {},
   "outputs": [],
   "source": []
  },
  {
   "cell_type": "code",
   "execution_count": 55,
   "metadata": {},
   "outputs": [
    {
     "name": "stdout",
     "output_type": "stream",
     "text": [
      "[INFO] Model is initializing... UNet 3p attn\n"
     ]
    },
    {
     "data": {
      "application/vnd.jupyter.widget-view+json": {
       "model_id": "25742c12e3c342e484547203572c93c1",
       "version_major": 2,
       "version_minor": 0
      },
      "text/plain": [
       "  0%|          | 0/312 [00:00<?, ?it/s]"
      ]
     },
     "metadata": {},
     "output_type": "display_data"
    },
    {
     "name": "stdout",
     "output_type": "stream",
     "text": [
      "Epoch [0]\n",
      "Mean loss on train: 0.5119162797927856 \n",
      "Mean DICE on train: 0.4936781584325456 \n",
      "Mean DICE on validation: 0.5171463837816528\n"
     ]
    },
    {
     "data": {
      "application/vnd.jupyter.widget-view+json": {
       "model_id": "0b2332258a6943058a407d4b29a02ed4",
       "version_major": 2,
       "version_minor": 0
      },
      "text/plain": [
       "  0%|          | 0/312 [00:00<?, ?it/s]"
      ]
     },
     "metadata": {},
     "output_type": "display_data"
    },
    {
     "name": "stdout",
     "output_type": "stream",
     "text": [
      "Epoch [1]\n",
      "Mean loss on train: 0.3856380683107254 \n",
      "Mean DICE on train: 0.6183978979551048 \n",
      "Mean DICE on validation: 0.6310970432062065\n"
     ]
    },
    {
     "data": {
      "application/vnd.jupyter.widget-view+json": {
       "model_id": "cbadcdf3c45447949d940e3591eeb598",
       "version_major": 2,
       "version_minor": 0
      },
      "text/plain": [
       "  0%|          | 0/312 [00:00<?, ?it/s]"
      ]
     },
     "metadata": {},
     "output_type": "display_data"
    },
    {
     "name": "stdout",
     "output_type": "stream",
     "text": [
      "Epoch [2]\n",
      "Mean loss on train: 0.35186326121672606 \n",
      "Mean DICE on train: 0.6506430918643136 \n",
      "Mean DICE on validation: 0.6533284467918216\n"
     ]
    },
    {
     "data": {
      "application/vnd.jupyter.widget-view+json": {
       "model_id": "eb02ca82c13b4c30a4e023b6777e7d01",
       "version_major": 2,
       "version_minor": 0
      },
      "text/plain": [
       "  0%|          | 0/312 [00:00<?, ?it/s]"
      ]
     },
     "metadata": {},
     "output_type": "display_data"
    },
    {
     "name": "stdout",
     "output_type": "stream",
     "text": [
      "Epoch [3]\n",
      "Mean loss on train: 0.33356279096542263 \n",
      "Mean DICE on train: 0.6668520790949203 \n",
      "Mean DICE on validation: 0.7034988698738421\n"
     ]
    },
    {
     "data": {
      "application/vnd.jupyter.widget-view+json": {
       "model_id": "b050a4e895e04d92afa6cb6da05c2e61",
       "version_major": 2,
       "version_minor": 0
      },
      "text/plain": [
       "  0%|          | 0/312 [00:00<?, ?it/s]"
      ]
     },
     "metadata": {},
     "output_type": "display_data"
    },
    {
     "name": "stdout",
     "output_type": "stream",
     "text": [
      "Epoch [4]\n",
      "Mean loss on train: 0.2968587497105965 \n",
      "Mean DICE on train: 0.7050539231572183 \n",
      "Mean DICE on validation: 0.6901725832955031\n"
     ]
    },
    {
     "data": {
      "application/vnd.jupyter.widget-view+json": {
       "model_id": "3d68c549f78645eb8642e583e2d7662e",
       "version_major": 2,
       "version_minor": 0
      },
      "text/plain": [
       "  0%|          | 0/312 [00:00<?, ?it/s]"
      ]
     },
     "metadata": {},
     "output_type": "display_data"
    },
    {
     "name": "stdout",
     "output_type": "stream",
     "text": [
      "Epoch [5]\n",
      "Mean loss on train: 0.2928767074377109 \n",
      "Mean DICE on train: 0.7092341857855415 \n",
      "Mean DICE on validation: 0.7284809944324002\n"
     ]
    },
    {
     "data": {
      "application/vnd.jupyter.widget-view+json": {
       "model_id": "282307894005474db68a142bf426c86d",
       "version_major": 2,
       "version_minor": 0
      },
      "text/plain": [
       "  0%|          | 0/312 [00:00<?, ?it/s]"
      ]
     },
     "metadata": {},
     "output_type": "display_data"
    },
    {
     "name": "stdout",
     "output_type": "stream",
     "text": [
      "Epoch [6]\n",
      "Mean loss on train: 0.28734897057979536 \n",
      "Mean DICE on train: 0.7154901828022633 \n",
      "Mean DICE on validation: 0.7083240370095326\n"
     ]
    },
    {
     "data": {
      "application/vnd.jupyter.widget-view+json": {
       "model_id": "7cea412b4a5347bb964ba58a6b8526e2",
       "version_major": 2,
       "version_minor": 0
      },
      "text/plain": [
       "  0%|          | 0/312 [00:00<?, ?it/s]"
      ]
     },
     "metadata": {},
     "output_type": "display_data"
    },
    {
     "name": "stdout",
     "output_type": "stream",
     "text": [
      "Epoch [7]\n",
      "Mean loss on train: 0.3012601011074506 \n",
      "Mean DICE on train: 0.7009368982338344 \n",
      "Mean DICE on validation: 0.6962143996761685\n"
     ]
    },
    {
     "data": {
      "application/vnd.jupyter.widget-view+json": {
       "model_id": "e9f75edf4c224c85b760cf7a83cbe7d7",
       "version_major": 2,
       "version_minor": 0
      },
      "text/plain": [
       "  0%|          | 0/312 [00:00<?, ?it/s]"
      ]
     },
     "metadata": {},
     "output_type": "display_data"
    },
    {
     "name": "stdout",
     "output_type": "stream",
     "text": [
      "Epoch [8]\n",
      "Mean loss on train: 0.26745089697532165 \n",
      "Mean DICE on train: 0.7341343694679446 \n",
      "Mean DICE on validation: 0.6760497611863051\n"
     ]
    },
    {
     "data": {
      "application/vnd.jupyter.widget-view+json": {
       "model_id": "80dabaf263e5475980d3e2687af64b74",
       "version_major": 2,
       "version_minor": 0
      },
      "text/plain": [
       "  0%|          | 0/312 [00:00<?, ?it/s]"
      ]
     },
     "metadata": {},
     "output_type": "display_data"
    },
    {
     "name": "stdout",
     "output_type": "stream",
     "text": [
      "Epoch [9]\n",
      "Mean loss on train: 0.28055311758548784 \n",
      "Mean DICE on train: 0.7212665090602656 \n",
      "Mean DICE on validation: 0.7578137244200389\n"
     ]
    },
    {
     "data": {
      "application/vnd.jupyter.widget-view+json": {
       "model_id": "16d9cacd737a47019865218d542f3ff6",
       "version_major": 2,
       "version_minor": 0
      },
      "text/plain": [
       "  0%|          | 0/312 [00:00<?, ?it/s]"
      ]
     },
     "metadata": {},
     "output_type": "display_data"
    },
    {
     "name": "stdout",
     "output_type": "stream",
     "text": [
      "Epoch [10]\n",
      "Mean loss on train: 0.2569688434402148 \n",
      "Mean DICE on train: 0.7441722518216124 \n",
      "Mean DICE on validation: 0.703149948092208\n"
     ]
    },
    {
     "data": {
      "application/vnd.jupyter.widget-view+json": {
       "model_id": "b71bacc940be45529c38093033141b68",
       "version_major": 2,
       "version_minor": 0
      },
      "text/plain": [
       "  0%|          | 0/312 [00:00<?, ?it/s]"
      ]
     },
     "metadata": {},
     "output_type": "display_data"
    },
    {
     "name": "stdout",
     "output_type": "stream",
     "text": [
      "Epoch [11]\n",
      "Mean loss on train: 0.2611678061194909 \n",
      "Mean DICE on train: 0.739330815359038 \n",
      "Mean DICE on validation: 0.7391375819654349\n"
     ]
    },
    {
     "data": {
      "application/vnd.jupyter.widget-view+json": {
       "model_id": "32ea72de9d364e6fa150f2c04707468d",
       "version_major": 2,
       "version_minor": 0
      },
      "text/plain": [
       "  0%|          | 0/312 [00:00<?, ?it/s]"
      ]
     },
     "metadata": {},
     "output_type": "display_data"
    },
    {
     "name": "stdout",
     "output_type": "stream",
     "text": [
      "Epoch [12]\n",
      "Mean loss on train: 0.24906897659485155 \n",
      "Mean DICE on train: 0.7514291378152251 \n",
      "Mean DICE on validation: 0.7177293762808783\n"
     ]
    },
    {
     "data": {
      "application/vnd.jupyter.widget-view+json": {
       "model_id": "39522ba8418049fb8dd5a598821ca351",
       "version_major": 2,
       "version_minor": 0
      },
      "text/plain": [
       "  0%|          | 0/312 [00:00<?, ?it/s]"
      ]
     },
     "metadata": {},
     "output_type": "display_data"
    },
    {
     "name": "stdout",
     "output_type": "stream",
     "text": [
      "Epoch [13]\n",
      "Mean loss on train: 0.23726621652260804 \n",
      "Mean DICE on train: 0.763618770367127 \n",
      "Mean DICE on validation: 0.7368348915542612\n"
     ]
    },
    {
     "data": {
      "application/vnd.jupyter.widget-view+json": {
       "model_id": "d243b924af114b608162e5e1cab5b414",
       "version_major": 2,
       "version_minor": 0
      },
      "text/plain": [
       "  0%|          | 0/312 [00:00<?, ?it/s]"
      ]
     },
     "metadata": {},
     "output_type": "display_data"
    },
    {
     "name": "stdout",
     "output_type": "stream",
     "text": [
      "Epoch [14]\n",
      "Mean loss on train: 0.24837513172473663 \n",
      "Mean DICE on train: 0.751571686169076 \n",
      "Mean DICE on validation: 0.7959837163846042\n"
     ]
    },
    {
     "data": {
      "application/vnd.jupyter.widget-view+json": {
       "model_id": "4ee24f77b6a94bef8c0b13800a42a6b5",
       "version_major": 2,
       "version_minor": 0
      },
      "text/plain": [
       "  0%|          | 0/312 [00:00<?, ?it/s]"
      ]
     },
     "metadata": {},
     "output_type": "display_data"
    },
    {
     "name": "stdout",
     "output_type": "stream",
     "text": [
      "Epoch [15]\n",
      "Mean loss on train: 0.23239310544270736 \n",
      "Mean DICE on train: 0.7685586239010722 \n",
      "Mean DICE on validation: 0.7406601480771842\n"
     ]
    },
    {
     "data": {
      "application/vnd.jupyter.widget-view+json": {
       "model_id": "4b184754ba1246eb846f68250109ca40",
       "version_major": 2,
       "version_minor": 0
      },
      "text/plain": [
       "  0%|          | 0/312 [00:00<?, ?it/s]"
      ]
     },
     "metadata": {},
     "output_type": "display_data"
    },
    {
     "name": "stdout",
     "output_type": "stream",
     "text": [
      "Epoch [16]\n",
      "Mean loss on train: 0.21727596051417863 \n",
      "Mean DICE on train: 0.7837379028437425 \n",
      "Mean DICE on validation: 0.7658127112922362\n"
     ]
    },
    {
     "data": {
      "application/vnd.jupyter.widget-view+json": {
       "model_id": "b65efb8aeb2f479897ca4a9115ad0691",
       "version_major": 2,
       "version_minor": 0
      },
      "text/plain": [
       "  0%|          | 0/312 [00:00<?, ?it/s]"
      ]
     },
     "metadata": {},
     "output_type": "display_data"
    },
    {
     "name": "stdout",
     "output_type": "stream",
     "text": [
      "Epoch [17]\n",
      "Mean loss on train: 0.21108169987415656 \n",
      "Mean DICE on train: 0.7907126666938077 \n",
      "Mean DICE on validation: 0.7573632878878076\n"
     ]
    },
    {
     "data": {
      "application/vnd.jupyter.widget-view+json": {
       "model_id": "ebf2062974964655a310b198bd9b2a2d",
       "version_major": 2,
       "version_minor": 0
      },
      "text/plain": [
       "  0%|          | 0/312 [00:00<?, ?it/s]"
      ]
     },
     "metadata": {},
     "output_type": "display_data"
    },
    {
     "name": "stdout",
     "output_type": "stream",
     "text": [
      "Epoch [18]\n",
      "Mean loss on train: 0.2282872989009588 \n",
      "Mean DICE on train: 0.7754190580835333 \n",
      "Mean DICE on validation: 0.704202428449889\n"
     ]
    },
    {
     "data": {
      "application/vnd.jupyter.widget-view+json": {
       "model_id": "0d2f3bbb29914245af0802d22ef95ad2",
       "version_major": 2,
       "version_minor": 0
      },
      "text/plain": [
       "  0%|          | 0/312 [00:00<?, ?it/s]"
      ]
     },
     "metadata": {},
     "output_type": "display_data"
    },
    {
     "name": "stdout",
     "output_type": "stream",
     "text": [
      "Epoch [19]\n",
      "Mean loss on train: 0.22745060863403174 \n",
      "Mean DICE on train: 0.7733431605484865 \n",
      "Mean DICE on validation: 0.7685390126787828\n"
     ]
    },
    {
     "data": {
      "application/vnd.jupyter.widget-view+json": {
       "model_id": "a8bf45e8e57649f49a28f092b7034acb",
       "version_major": 2,
       "version_minor": 0
      },
      "text/plain": [
       "  0%|          | 0/312 [00:00<?, ?it/s]"
      ]
     },
     "metadata": {},
     "output_type": "display_data"
    },
    {
     "name": "stdout",
     "output_type": "stream",
     "text": [
      "Epoch [20]\n",
      "Mean loss on train: 0.22074323128431272 \n",
      "Mean DICE on train: 0.7800193120487909 \n",
      "Mean DICE on validation: 0.7911870893974948\n"
     ]
    },
    {
     "data": {
      "application/vnd.jupyter.widget-view+json": {
       "model_id": "4f30327956254ceca9b123cf10838c02",
       "version_major": 2,
       "version_minor": 0
      },
      "text/plain": [
       "  0%|          | 0/312 [00:00<?, ?it/s]"
      ]
     },
     "metadata": {},
     "output_type": "display_data"
    },
    {
     "name": "stdout",
     "output_type": "stream",
     "text": [
      "Epoch [21]\n",
      "Mean loss on train: 0.2299541542545343 \n",
      "Mean DICE on train: 0.7705131893797427 \n",
      "Mean DICE on validation: 0.8129497737266435\n"
     ]
    },
    {
     "data": {
      "application/vnd.jupyter.widget-view+json": {
       "model_id": "94219c58863c4c0389d8fe9c58c2e069",
       "version_major": 2,
       "version_minor": 0
      },
      "text/plain": [
       "  0%|          | 0/312 [00:00<?, ?it/s]"
      ]
     },
     "metadata": {},
     "output_type": "display_data"
    },
    {
     "name": "stdout",
     "output_type": "stream",
     "text": [
      "Epoch [22]\n",
      "Mean loss on train: 0.1938790533787165 \n",
      "Mean DICE on train: 0.8069402630732191 \n",
      "Mean DICE on validation: 0.7949449356656137\n"
     ]
    },
    {
     "data": {
      "application/vnd.jupyter.widget-view+json": {
       "model_id": "0d8ea124194c4d35bbf09b0853c3f4a5",
       "version_major": 2,
       "version_minor": 0
      },
      "text/plain": [
       "  0%|          | 0/312 [00:00<?, ?it/s]"
      ]
     },
     "metadata": {},
     "output_type": "display_data"
    },
    {
     "name": "stdout",
     "output_type": "stream",
     "text": [
      "Epoch [23]\n",
      "Mean loss on train: 0.19158421055628702 \n",
      "Mean DICE on train: 0.8089825891900568 \n",
      "Mean DICE on validation: 0.8178263980979797\n"
     ]
    },
    {
     "data": {
      "application/vnd.jupyter.widget-view+json": {
       "model_id": "099828f27dff4f96b54d730a4d2ddfab",
       "version_major": 2,
       "version_minor": 0
      },
      "text/plain": [
       "  0%|          | 0/312 [00:00<?, ?it/s]"
      ]
     },
     "metadata": {},
     "output_type": "display_data"
    },
    {
     "name": "stdout",
     "output_type": "stream",
     "text": [
      "Epoch [24]\n",
      "Mean loss on train: 0.2029384720401886 \n",
      "Mean DICE on train: 0.7982359241933832 \n",
      "Mean DICE on validation: 0.8513691017276697\n"
     ]
    },
    {
     "data": {
      "application/vnd.jupyter.widget-view+json": {
       "model_id": "2f44d69ad8a54482b997976d607b4cca",
       "version_major": 2,
       "version_minor": 0
      },
      "text/plain": [
       "  0%|          | 0/312 [00:00<?, ?it/s]"
      ]
     },
     "metadata": {},
     "output_type": "display_data"
    },
    {
     "name": "stdout",
     "output_type": "stream",
     "text": [
      "Epoch [25]\n",
      "Mean loss on train: 0.20961286223087555 \n",
      "Mean DICE on train: 0.7919239214453715 \n",
      "Mean DICE on validation: 0.7471935072049019\n"
     ]
    },
    {
     "data": {
      "application/vnd.jupyter.widget-view+json": {
       "model_id": "d1839a65ddb9489d836b008118fe2c9e",
       "version_major": 2,
       "version_minor": 0
      },
      "text/plain": [
       "  0%|          | 0/312 [00:00<?, ?it/s]"
      ]
     },
     "metadata": {},
     "output_type": "display_data"
    },
    {
     "name": "stdout",
     "output_type": "stream",
     "text": [
      "Epoch [26]\n",
      "Mean loss on train: 0.22288407328037116 \n",
      "Mean DICE on train: 0.7783142188782652 \n",
      "Mean DICE on validation: 0.8168097603837414\n"
     ]
    },
    {
     "data": {
      "application/vnd.jupyter.widget-view+json": {
       "model_id": "b360898a1fcc425bafa1532f1cedd367",
       "version_major": 2,
       "version_minor": 0
      },
      "text/plain": [
       "  0%|          | 0/312 [00:00<?, ?it/s]"
      ]
     },
     "metadata": {},
     "output_type": "display_data"
    },
    {
     "name": "stdout",
     "output_type": "stream",
     "text": [
      "Epoch [27]\n",
      "Mean loss on train: 0.20292829072628266 \n",
      "Mean DICE on train: 0.7970463624434965 \n",
      "Mean DICE on validation: 0.8339583648688944\n"
     ]
    },
    {
     "data": {
      "application/vnd.jupyter.widget-view+json": {
       "model_id": "41fb6a66d7cd4c5d89f4214d27cba442",
       "version_major": 2,
       "version_minor": 0
      },
      "text/plain": [
       "  0%|          | 0/312 [00:00<?, ?it/s]"
      ]
     },
     "metadata": {},
     "output_type": "display_data"
    },
    {
     "name": "stdout",
     "output_type": "stream",
     "text": [
      "Epoch [28]\n",
      "Mean loss on train: 0.17877818376590043 \n",
      "Mean DICE on train: 0.8212912524207494 \n",
      "Mean DICE on validation: 0.7575226302774022\n"
     ]
    },
    {
     "data": {
      "application/vnd.jupyter.widget-view+json": {
       "model_id": "cc1aeb9db0b74381bcc78bded8787795",
       "version_major": 2,
       "version_minor": 0
      },
      "text/plain": [
       "  0%|          | 0/312 [00:00<?, ?it/s]"
      ]
     },
     "metadata": {},
     "output_type": "display_data"
    },
    {
     "name": "stdout",
     "output_type": "stream",
     "text": [
      "Epoch [29]\n",
      "Mean loss on train: 0.184878293520365 \n",
      "Mean DICE on train: 0.8163077546591466 \n",
      "Mean DICE on validation: 0.7690143740828717\n"
     ]
    },
    {
     "data": {
      "application/vnd.jupyter.widget-view+json": {
       "model_id": "eb1bfbb49ae5483f870eba9cc6f95cf8",
       "version_major": 2,
       "version_minor": 0
      },
      "text/plain": [
       "  0%|          | 0/312 [00:00<?, ?it/s]"
      ]
     },
     "metadata": {},
     "output_type": "display_data"
    },
    {
     "name": "stdout",
     "output_type": "stream",
     "text": [
      "Epoch [30]\n",
      "Mean loss on train: 0.1851059635862326 \n",
      "Mean DICE on train: 0.8151999668141158 \n",
      "Mean DICE on validation: 0.8050432785471605\n"
     ]
    },
    {
     "data": {
      "application/vnd.jupyter.widget-view+json": {
       "model_id": "976c2c445f4e42b981fb44acf0f2b50f",
       "version_major": 2,
       "version_minor": 0
      },
      "text/plain": [
       "  0%|          | 0/312 [00:00<?, ?it/s]"
      ]
     },
     "metadata": {},
     "output_type": "display_data"
    },
    {
     "name": "stdout",
     "output_type": "stream",
     "text": [
      "Epoch [31]\n",
      "Mean loss on train: 0.19880752704846552 \n",
      "Mean DICE on train: 0.8016042317743702 \n",
      "Mean DICE on validation: 0.8177606931357905\n"
     ]
    },
    {
     "data": {
      "application/vnd.jupyter.widget-view+json": {
       "model_id": "8765a318b02a4c43ac4da64a769ce00b",
       "version_major": 2,
       "version_minor": 0
      },
      "text/plain": [
       "  0%|          | 0/312 [00:00<?, ?it/s]"
      ]
     },
     "metadata": {},
     "output_type": "display_data"
    },
    {
     "name": "stdout",
     "output_type": "stream",
     "text": [
      "Epoch [32]\n",
      "Mean loss on train: 0.19909328260482886 \n",
      "Mean DICE on train: 0.8012219481518729 \n",
      "Mean DICE on validation: 0.8023835822319283\n"
     ]
    },
    {
     "data": {
      "application/vnd.jupyter.widget-view+json": {
       "model_id": "0ec59dd1a3d847d7b25d7c9258e1f6b3",
       "version_major": 2,
       "version_minor": 0
      },
      "text/plain": [
       "  0%|          | 0/312 [00:00<?, ?it/s]"
      ]
     },
     "metadata": {},
     "output_type": "display_data"
    },
    {
     "name": "stdout",
     "output_type": "stream",
     "text": [
      "Epoch [33]\n",
      "Mean loss on train: 0.16375551162621912 \n",
      "Mean DICE on train: 0.8368487790752669 \n",
      "Mean DICE on validation: 0.8272282907601454\n"
     ]
    },
    {
     "data": {
      "application/vnd.jupyter.widget-view+json": {
       "model_id": "09c597eca9b84cc283ce6cfd27e132fc",
       "version_major": 2,
       "version_minor": 0
      },
      "text/plain": [
       "  0%|          | 0/312 [00:00<?, ?it/s]"
      ]
     },
     "metadata": {},
     "output_type": "display_data"
    },
    {
     "name": "stdout",
     "output_type": "stream",
     "text": [
      "Epoch [34]\n",
      "Mean loss on train: 0.17827759644924066 \n",
      "Mean DICE on train: 0.8223074073613926 \n",
      "Mean DICE on validation: 0.7753498505396189\n"
     ]
    }
   ],
   "source": [
    "# %%time\n",
    "num_ep = 35\n",
    "# after 30 does not improve much\n",
    "\n",
    "# aun_lh, aun_th, aun_vh = train_model(\"Attention UNet\", attention_unet, train_dataloader, val_dataloader, DiceLoss(), opt, False, num_ep)\n",
    "aun_lh, aun_th, aun_vh = train_model(\"UNet 3p attn\", unet3p_attn, train_dataloader, val_dataloader, DiceLoss(), opt, False, num_ep)"
   ]
  },
  {
   "cell_type": "code",
   "execution_count": null,
   "metadata": {},
   "outputs": [],
   "source": []
  },
  {
   "cell_type": "code",
   "execution_count": 56,
   "metadata": {},
   "outputs": [],
   "source": [
    "def plot_model_history(model_name,\n",
    "                        train_history, val_history, \n",
    "                        num_epochs):\n",
    "    \n",
    "    x = np.arange(num_epochs)\n",
    "\n",
    "    fig = plt.figure(figsize=(10, 6))\n",
    "    plt.plot(x, train_history, label='train dice', lw=3, c=\"springgreen\")\n",
    "    plt.plot(x, val_history, label='validation dice', lw=3, c=\"deeppink\")\n",
    "\n",
    "    plt.title(f\"{model_name}\", fontsize=15)\n",
    "    plt.legend(fontsize=12)\n",
    "    plt.xlabel(\"Epoch\", fontsize=15)\n",
    "    plt.ylabel(\"DICE\", fontsize=15)\n",
    "\n",
    "    fn = str(int(time.time())) + \".png\"\n",
    "    plt.show()"
   ]
  },
  {
   "cell_type": "code",
   "execution_count": 57,
   "metadata": {},
   "outputs": [
    {
     "data": {
      "image/png": "[encoded data removed]",
      "text/plain": [
       "<Figure size 1000x600 with 1 Axes>"
      ]
     },
     "metadata": {},
     "output_type": "display_data"
    }
   ],
   "source": [
    "plot_model_history(\" U-Net 3+ attn\", aun_th, aun_vh, num_ep)"
   ]
  },
  {
   "cell_type": "code",
   "execution_count": 58,
   "metadata": {},
   "outputs": [
    {
     "data": {
      "text/plain": [
       "[<matplotlib.lines.Line2D at 0x2adfa2040>]"
      ]
     },
     "execution_count": 58,
     "metadata": {},
     "output_type": "execute_result"
    },
    {
     "data": {
      "image/png": "[encoded data removed]",
      "text/plain": [
       "<Figure size 640x480 with 1 Axes>"
      ]
     },
     "metadata": {},
     "output_type": "display_data"
    }
   ],
   "source": [
    "plt.plot(range(num_ep), aun_lh)"
   ]
  },
  {
   "cell_type": "code",
   "execution_count": 59,
   "metadata": {},
   "outputs": [
    {
     "name": "stdout",
     "output_type": "stream",
     "text": [
      "Attention U-Net\n",
      "Mean IoU of the test images - 85.0%\n"
     ]
    }
   ],
   "source": [
    "test_iou = compute_iou(unet3p_attn, test_dataloader)\n",
    "print(f\"\"\"Attention U-Net\\nMean IoU of the test images - {np.around(test_iou, 2)*100}%\"\"\")"
   ]
  },
  {
   "cell_type": "code",
   "execution_count": null,
   "metadata": {},
   "outputs": [],
   "source": []
  },
  {
   "cell_type": "code",
   "execution_count": null,
   "metadata": {},
   "outputs": [],
   "source": [
    "#============================== EXP : viz pred mask"
   ]
  },
  {
   "cell_type": "code",
   "execution_count": null,
   "metadata": {},
   "outputs": [],
   "source": [
    "# a = torch.zeros(4, 5, 6)\n",
    "# a = a.unsqueeze(0)\n",
    "\n",
    "# a.shape\n"
   ]
  },
  {
   "cell_type": "code",
   "execution_count": null,
   "metadata": {},
   "outputs": [],
   "source": [
    "test_dataset.df.head(10)#[test_dataset.df['diagnosis']==1]"
   ]
  },
  {
   "cell_type": "code",
   "execution_count": null,
   "metadata": {},
   "outputs": [],
   "source": [
    "test_dataset.df.loc[1103]"
   ]
  },
  {
   "cell_type": "code",
   "execution_count": null,
   "metadata": {},
   "outputs": [],
   "source": [
    "test_dataset[1][1].sum()"
   ]
  },
  {
   "cell_type": "code",
   "execution_count": null,
   "metadata": {},
   "outputs": [],
   "source": []
  },
  {
   "cell_type": "code",
   "execution_count": null,
   "metadata": {},
   "outputs": [],
   "source": []
  },
  {
   "cell_type": "code",
   "execution_count": null,
   "metadata": {},
   "outputs": [],
   "source": [
    "# def viz_pred_output(model, loader, threshold=0.3):\n",
    "#     valloss = 0\n",
    "    \n",
    "#     with torch.no_grad():\n",
    "\n",
    "#         for i_step, (data, target) in enumerate(loader):\n",
    "            \n",
    "#             data = data[0].to(device).unsqueeze(0)\n",
    "#             target = target[0].to(device).unsqueeze(0)\n",
    "            \n",
    "#             outputs = model(data)\n",
    "\n",
    "#             out_cut = np.copy(outputs.data.cpu().numpy())\n",
    "#             out_cut[np.nonzero(out_cut < threshold)] = 0.0\n",
    "#             out_cut[np.nonzero(out_cut >= threshold)] = 1.0\n",
    "            \n",
    "#             f, axarr = plt.subplots(1,2)\n",
    "# #             axarr[0,0].imshow(image_datas[0])\n",
    "# #             axarr[0,1].imshow(image_datas[1])\n",
    "            \n",
    "#             targ = target.data.cpu().numpy()[0][0]\n",
    "#             target_img = cv2.merge((targ,targ,targ))\n",
    "#             axarr[0].imshow(target_img)\n",
    "            \n",
    "#             op = out_cut[0][0]\n",
    "#             axarr[1].imshow(op)\n",
    "            \n",
    "#             break\n",
    "\n",
    "\n",
    "def viz_pred_output(model, loader, idx,  threshold=0.3):\n",
    "    valloss = 0\n",
    "    \n",
    "    with torch.no_grad():\n",
    "\n",
    "#         for i_step, (data, target) in enumerate(loader):\n",
    "        target = torch.tensor(test_dataset[idx][1])\n",
    "        data = torch.tensor(test_dataset[idx][0])\n",
    "\n",
    "        data = data.to(device).unsqueeze(0)\n",
    "        target = target.to(device).unsqueeze(0)\n",
    "\n",
    "        outputs = model(data)\n",
    "\n",
    "        out_cut = np.copy(outputs.data.cpu().numpy())\n",
    "        out_cut[np.nonzero(out_cut < threshold)] = 0.0\n",
    "        out_cut[np.nonzero(out_cut >= threshold)] = 1.0\n",
    "\n",
    "        f, axarr = plt.subplots(1,2)\n",
    "#             axarr[0,0].imshow(image_datas[0])\n",
    "#             axarr[0,1].imshow(image_datas[1])\n",
    "\n",
    "        targ = target.data.cpu().numpy()[0][0]\n",
    "        target_img = cv2.merge((targ,targ,targ))\n",
    "        axarr[0].imshow(target_img)\n",
    "\n",
    "        op = out_cut[0][0]\n",
    "        axarr[1].imshow(op)\n",
    "\n",
    "\n"
   ]
  },
  {
   "cell_type": "code",
   "execution_count": null,
   "metadata": {},
   "outputs": [],
   "source": [
    "idx = 33\n",
    "viz_pred_output(unet3p_attn, test_dataloader, idx)"
   ]
  },
  {
   "cell_type": "code",
   "execution_count": null,
   "metadata": {},
   "outputs": [],
   "source": [
    "#=============================="
   ]
  },
  {
   "cell_type": "code",
   "execution_count": null,
   "metadata": {},
   "outputs": [],
   "source": []
  },
  {
   "cell_type": "code",
   "execution_count": null,
   "metadata": {},
   "outputs": [],
   "source": [
    "# Different Loss Functions and Comparisons"
   ]
  },
  {
   "cell_type": "code",
   "execution_count": null,
   "metadata": {},
   "outputs": [],
   "source": [
    "#TODO: copy paste"
   ]
  },
  {
   "cell_type": "code",
   "execution_count": null,
   "metadata": {},
   "outputs": [],
   "source": [
    "# For 5 epochs"
   ]
  },
  {
   "cell_type": "code",
   "execution_count": null,
   "metadata": {},
   "outputs": [],
   "source": [
    "ALPHA = 0.5\n",
    "BETA = 0.5\n",
    "GAMMA = 1"
   ]
  },
  {
   "cell_type": "code",
   "execution_count": null,
   "metadata": {},
   "outputs": [],
   "source": [
    "class FocalLoss(nn.Module):\n",
    "    def __init__(self, weight=None, size_average=True):\n",
    "        super(FocalLoss, self).__init__()\n",
    "\n",
    "    def forward(self, inputs, targets, alpha=ALPHA, gamma=GAMMA, smooth=1):\n",
    "        \n",
    "        inputs = F.sigmoid(inputs)       \n",
    "        \n",
    "        #flatten label and prediction tensors\n",
    "        inputs = inputs.view(-1)\n",
    "        targets = targets.view(-1)\n",
    "        \n",
    "        #first compute binary cross-entropy \n",
    "        BCE = F.binary_cross_entropy(inputs, targets, reduction='mean')\n",
    "        BCE_EXP = torch.exp(-BCE)\n",
    "        focal_loss = alpha * (1-BCE_EXP)**gamma * BCE\n",
    "                       \n",
    "        return focal_loss"
   ]
  },
  {
   "cell_type": "code",
   "execution_count": null,
   "metadata": {},
   "outputs": [],
   "source": [
    "class FocalTverskyLoss(nn.Module):\n",
    "    def __init__(self, weight=None, size_average=True):\n",
    "        super(FocalTverskyLoss, self).__init__()\n",
    "\n",
    "    def forward(self, inputs, targets, smooth=1, alpha=ALPHA, beta=BETA, gamma=GAMMA):\n",
    "        \n",
    "        #comment out if your model contains a sigmoid or equivalent activation layer\n",
    "        inputs = F.sigmoid(inputs)       \n",
    "        \n",
    "        #flatten label and prediction tensors\n",
    "        inputs = inputs.view(-1)\n",
    "        targets = targets.view(-1)\n",
    "        #True Positives, False Positives & False Negatives\n",
    "        TP = (inputs * targets).sum()    \n",
    "        FP = ((1-targets) * inputs).sum()\n",
    "        FN = (targets * (1-inputs)).sum()\n",
    "        \n",
    "        Tversky = (TP + smooth) / (TP + alpha*FP + beta*FN + smooth)  \n",
    "        FocalTversky = (1 - Tversky)**gamma\n",
    "                       \n",
    "        return FocalTversky"
   ]
  },
  {
   "cell_type": "code",
   "execution_count": null,
   "metadata": {},
   "outputs": [],
   "source": [
    "def flatten_binary_scores(scores, labels, ignore=None):\n",
    "    \"\"\"\n",
    "    Flattens predictions in the batch (binary case)\n",
    "    Remove labels equal to 'ignore'\n",
    "    \"\"\"\n",
    "    scores = scores.view(-1)\n",
    "    labels = labels.view(-1)\n",
    "    if ignore is None:\n",
    "        return scores, labels\n",
    "    valid = (labels != ignore)\n",
    "    vscores = scores[valid]\n",
    "    vlabels = labels[valid]\n",
    "    return vscores, vlabels\n",
    "\n",
    "def lovasz_grad(gt_sorted):\n",
    "    \"\"\"\n",
    "    Computes gradient of the Lovasz extension w.r.t sorted errors\n",
    "    See Alg. 1 in paper\n",
    "    \"\"\"\n",
    "    p = len(gt_sorted)\n",
    "    gts = gt_sorted.sum()\n",
    "    intersection = gts - gt_sorted.float().cumsum(0)\n",
    "    union = gts + (1 - gt_sorted).float().cumsum(0)\n",
    "    jaccard = 1. - intersection / union\n",
    "    if p > 1: # cover 1-pixel case\n",
    "        jaccard[1:p] = jaccard[1:p] - jaccard[0:-1]\n",
    "    return jaccard\n",
    "\n",
    "def lovasz_hinge(logits, labels, per_image=True, ignore=None):\n",
    "    \"\"\"\n",
    "    Binary Lovasz hinge loss\n",
    "      logits: [B, H, W] Variable, logits at each pixel (between -\\infty and +\\infty)\n",
    "      labels: [B, H, W] Tensor, binary ground truth masks (0 or 1)\n",
    "      per_image: compute the loss per image instead of per batch\n",
    "      ignore: void class id\n",
    "    \"\"\"\n",
    "    if per_image:\n",
    "        loss = mean(lovasz_hinge_flat(*flatten_binary_scores(log.unsqueeze(0), lab.unsqueeze(0), ignore))\n",
    "                          for log, lab in zip(logits, labels))\n",
    "    else:\n",
    "        loss = lovasz_hinge_flat(*flatten_binary_scores(logits, labels, ignore))\n",
    "    return loss\n",
    "\n",
    "def lovasz_hinge_flat(logits, labels):\n",
    "    \"\"\"\n",
    "    Binary Lovasz hinge loss\n",
    "      logits: [P] Variable, logits at each prediction (between -\\infty and +\\infty)\n",
    "      labels: [P] Tensor, binary ground truth labels (0 or 1)\n",
    "      ignore: label to ignore\n",
    "    \"\"\"\n",
    "    if len(labels) == 0:\n",
    "        # only void pixels, the gradients should be 0\n",
    "        return logits.sum() * 0.\n",
    "    signs = 2. * labels.float() - 1.\n",
    "    errors = (1. - logits * Variable(signs))\n",
    "    errors_sorted, perm = torch.sort(errors, dim=0, descending=True)\n",
    "    perm = perm.data\n",
    "    gt_sorted = labels[perm]\n",
    "    grad = lovasz_grad(gt_sorted)\n",
    "    loss = torch.dot(F.relu(errors_sorted), Variable(grad))\n",
    "    return loss\n",
    "\n",
    "#=====\n",
    "#Multi-class Lovasz loss\n",
    "#=====\n",
    "\n",
    "def lovasz_softmax(probas, labels, classes='present', per_image=False, ignore=None):\n",
    "    \"\"\"\n",
    "    Multi-class Lovasz-Softmax loss\n",
    "      probas: [B, C, H, W] Variable, class probabilities at each prediction (between 0 and 1).\n",
    "              Interpreted as binary (sigmoid) output with outputs of size [B, H, W].\n",
    "      labels: [B, H, W] Tensor, ground truth labels (between 0 and C - 1)\n",
    "      classes: 'all' for all, 'present' for classes present in labels, or a list of classes to average.\n",
    "      per_image: compute the loss per image instead of per batch\n",
    "      ignore: void class labels\n",
    "    \"\"\"\n",
    "    if per_image:\n",
    "        loss = mean(lovasz_softmax_flat(*flatten_probas(prob.unsqueeze(0), lab.unsqueeze(0), ignore), classes=classes)\n",
    "                          for prob, lab in zip(probas, labels))\n",
    "    else:\n",
    "        loss = lovasz_softmax_flat(*flatten_probas(probas, labels, ignore), classes=classes)\n",
    "    return loss\n",
    "\n",
    "\n",
    "def lovasz_softmax_flat(probas, labels, classes='present'):\n",
    "    \"\"\"\n",
    "    Multi-class Lovasz-Softmax loss\n",
    "      probas: [P, C] Variable, class probabilities at each prediction (between 0 and 1)\n",
    "      labels: [P] Tensor, ground truth labels (between 0 and C - 1)\n",
    "      classes: 'all' for all, 'present' for classes present in labels, or a list of classes to average.\n",
    "    \"\"\"\n",
    "    if probas.numel() == 0:\n",
    "        # only void pixels, the gradients should be 0\n",
    "        return probas * 0.\n",
    "    C = probas.size(1)\n",
    "    losses = []\n",
    "    class_to_sum = list(range(C)) if classes in ['all', 'present'] else classes\n",
    "    for c in class_to_sum:\n",
    "        fg = (labels == c).float() # foreground for class c\n",
    "        if (classes is 'present' and fg.sum() == 0):\n",
    "            continue\n",
    "        if C == 1:\n",
    "            if len(classes) > 1:\n",
    "                raise ValueError('Sigmoid output possible only with 1 class')\n",
    "            class_pred = probas[:, 0]\n",
    "        else:\n",
    "            class_pred = probas[:, c]\n",
    "        errors = (Variable(fg) - class_pred).abs()\n",
    "        errors_sorted, perm = torch.sort(errors, 0, descending=True)\n",
    "        perm = perm.data\n",
    "        fg_sorted = fg[perm]\n",
    "        losses.append(torch.dot(errors_sorted, Variable(lovasz_grad(fg_sorted))))\n",
    "    return mean(losses)\n",
    "\n",
    "class LovaszHingeLoss(nn.Module):\n",
    "    def __init__(self, weight=None, size_average=True):\n",
    "        super(LovaszHingeLoss, self).__init__()\n",
    "\n",
    "    def forward(self, inputs, targets):\n",
    "        inputs = F.sigmoid(inputs)    \n",
    "        Lovasz = lovasz_hinge(inputs, targets, per_image=False)                       \n",
    "        return Lovasz"
   ]
  },
  {
   "cell_type": "code",
   "execution_count": null,
   "metadata": {},
   "outputs": [],
   "source": [
    "# Focal loss"
   ]
  },
  {
   "cell_type": "code",
   "execution_count": null,
   "metadata": {},
   "outputs": [],
   "source": [
    "%%time\n",
    "num_ep = 5\n",
    "\n",
    "aun_lh2, aun_th2, aun_vh2 = train_model(\"Attention UNet3+\",  unet3p_attn, train_dataloader, val_dataloader, FocalLoss(), opt, False, num_ep)"
   ]
  },
  {
   "cell_type": "code",
   "execution_count": null,
   "metadata": {},
   "outputs": [],
   "source": [
    "plot_model_history(\"Focal Loss Attention U-Net 3+\", aun_th2, aun_vh2, num_ep)"
   ]
  },
  {
   "cell_type": "code",
   "execution_count": null,
   "metadata": {},
   "outputs": [],
   "source": [
    "plt.plot(range(num_ep), aun_lh2)"
   ]
  },
  {
   "cell_type": "code",
   "execution_count": null,
   "metadata": {},
   "outputs": [],
   "source": [
    "# Focal Tversky Loss"
   ]
  },
  {
   "cell_type": "code",
   "execution_count": null,
   "metadata": {},
   "outputs": [],
   "source": [
    "%%time\n",
    "num_ep = 5\n",
    "\n",
    "aun_lh3, aun_th3, aun_vh3 = train_model(\"Attention UNet3+\",  unet3p_attn, train_dataloader, val_dataloader, FocalTverskyLoss(), opt, False, num_ep)"
   ]
  },
  {
   "cell_type": "code",
   "execution_count": null,
   "metadata": {},
   "outputs": [],
   "source": [
    "plot_model_history(\"Focal Tversky Loss Attention U-Net 3+\", aun_th3, aun_vh3, num_ep)"
   ]
  },
  {
   "cell_type": "code",
   "execution_count": null,
   "metadata": {},
   "outputs": [],
   "source": [
    "plt.plot(range(num_ep), aun_lh3)"
   ]
  },
  {
   "cell_type": "code",
   "execution_count": null,
   "metadata": {},
   "outputs": [],
   "source": []
  },
  {
   "cell_type": "code",
   "execution_count": null,
   "metadata": {},
   "outputs": [],
   "source": []
  },
  {
   "cell_type": "code",
   "execution_count": null,
   "metadata": {},
   "outputs": [],
   "source": []
  },
  {
   "cell_type": "code",
   "execution_count": null,
   "metadata": {},
   "outputs": [],
   "source": []
  },
  {
   "cell_type": "code",
   "execution_count": null,
   "metadata": {},
   "outputs": [],
   "source": []
  }
 ],
 "metadata": {
  "kernelspec": {
   "display_name": "Python 3",
   "language": "python",
   "name": "python3"
  },
  "language_info": {
   "codemirror_mode": {
    "name": "ipython",
    "version": 3
   },
   "file_extension": ".py",
   "mimetype": "text/x-python",
   "name": "python",
   "nbconvert_exporter": "python",
   "pygments_lexer": "ipython3",
   "version": "3.9.13"
  },
  "vscode": {
   "interpreter": {
    "hash": "d9fe2f040c093e6866475fa96b829ef49234fde465e00105dee1d04d2ea6c922"
   }
  }
 },
 "nbformat": 4,
 "nbformat_minor": 2
}
